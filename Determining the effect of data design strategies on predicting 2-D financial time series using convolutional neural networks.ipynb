{
 "cells": [
  {
   "cell_type": "markdown",
   "metadata": {},
   "source": [
    "# Determining the effect of data design strategies on predicting 2-D financial time series using convolutional neural networks"
   ]
  },
  {
   "cell_type": "code",
   "execution_count": 1,
   "metadata": {
    "collapsed": true
   },
   "outputs": [],
   "source": [
    "import matplotlib.pyplot as plt\n",
    "import numpy as np\n",
    "import pandas as pd\n",
    "import matplotlib as mpl\n",
    "import matplotlib.pyplot as plt\n",
    "import seaborn as sns\n",
    "import warnings\n",
    "warnings.filterwarnings('ignore')\n",
    "%matplotlib inline\n",
    "from sklearn.linear_model import LinearRegression\n",
    "import statsmodels.api as sm\n",
    "from warnings import filterwarnings\n",
    "filterwarnings('ignore')\n",
    "import statsmodels.formula.api as smf\n",
    "from bokeh.plotting import figure, show\n",
    "import os\n",
    "import tensorflow as tf\n",
    "import numpy as np\n",
    "import time \n",
    "from datetime import timedelta\n",
    "import os\n",
    "import stockstats\n",
    "os.chdir(path=r'C:\\\\Users\\\\LenovoE73\\\\Desktop\\\\data\\\\tez_datalar');\n",
    "import FinanceLab as finlab\n",
    "import scipy \n",
    "import statistics as stat \n",
    "import stockstats\n",
    "from functools import wraps\n",
    "from pandas import DataFrame, Series\n",
    "from mlxtend.plotting import plot_confusion_matrix\n",
    "import matplotlib.pyplot as plt"
   ]
  },
  {
   "cell_type": "code",
   "execution_count": 2,
   "metadata": {
    "collapsed": true
   },
   "outputs": [],
   "source": [
    "import matplotlib.pyplot as plt\n",
    "import numpy as np\n",
    "import pandas as pd\n",
    "import matplotlib as mpl\n",
    "import seaborn as sns\n",
    "import warnings\n",
    "warnings.filterwarnings(\"ignore\")\n",
    "from sklearn.linear_model import LinearRegression\n",
    "from bokeh.plotting import figure, show\n",
    "import tensorflow as tf\n",
    "import time \n",
    "from datetime import timedelta\n",
    "import os\n",
    "os.chdir(path=r'C:\\Users\\LenovoE73\\Desktop\\data')\n",
    "#import FinanceLab as finlab\n",
    "import scipy \n",
    "import statistics as stat \n",
    "import stockstats\n",
    "import researchpy as rp\n",
    "%matplotlib inline\n",
    "from matplotlib import style\n",
    "style.use('ggplot')\n",
    "from pandas.api.types import CategoricalDtype\n",
    "from sklearn.model_selection import train_test_split\n",
    "import statsmodels.api as sm\n",
    "import statsmodels.formula.api as smf\n",
    "from sklearn.preprocessing import scale \n",
    "from sklearn.model_selection import train_test_split, GridSearchCV, cross_val_score\n",
    "from sklearn.metrics import confusion_matrix, accuracy_score, classification_report\n",
    "from sklearn.metrics import roc_auc_score,roc_curve\n",
    "from sklearn.metrics import multilabel_confusion_matrix\n",
    "from sklearn.metrics import f1_score\n",
    "import statsmodels.formula.api as smf\n",
    "from sklearn.neighbors import KNeighborsClassifier\n",
    "from sklearn.discriminant_analysis import LinearDiscriminantAnalysis\n",
    "from sklearn.linear_model import LogisticRegression\n",
    "from sklearn.svm import SVC\n",
    "from sklearn.naive_bayes import GaussianNB\n",
    "from sklearn import tree\n",
    "from sklearn.ensemble import RandomForestClassifier\n",
    "from sklearn.ensemble import GradientBoostingClassifier\n",
    "from xgboost import XGBClassifier\n",
    "from lightgbm import LGBMClassifier\n",
    "#from catboost import CatBoostClassifier\n",
    "import missingno as msno\n",
    "import numpy as np\n",
    "import matplotlib.pyplot as plt\n",
    "from itertools import cycle\n",
    "from sklearn import svm, datasets\n",
    "from sklearn.metrics import roc_curve, auc\n",
    "from sklearn.model_selection import train_test_split\n",
    "from sklearn.preprocessing import label_binarize\n",
    "from sklearn.multiclass import OneVsRestClassifier\n",
    "from scipy import interp\n",
    "from sklearn.metrics import roc_auc_score\n",
    "import numpy as np\n",
    "import pandas as pd \n",
    "from sklearn.model_selection import train_test_split, GridSearchCV,cross_val_score\n",
    "from sklearn.metrics import mean_squared_error, r2_score\n",
    "import matplotlib.pyplot as plt\n",
    "from sklearn.preprocessing import scale \n",
    "from sklearn import model_selection\n",
    "from sklearn.tree import DecisionTreeRegressor, DecisionTreeClassifier\n",
    "from sklearn.neighbors import KNeighborsRegressor\n",
    "from sklearn.ensemble import BaggingRegressor\n",
    "from sklearn.preprocessing import StandardScaler\n",
    "from sklearn.neural_network import MLPClassifier\n",
    "from warnings import filterwarnings\n",
    "filterwarnings('ignore')\n",
    "from sklearn import svm, datasets\n",
    "from sklearn.metrics import roc_curve, auc\n",
    "from sklearn.model_selection import train_test_split\n",
    "from sklearn.preprocessing import label_binarize\n",
    "from sklearn.multiclass import OneVsRestClassifier\n",
    "from scipy import interp\n",
    "from sklearn.metrics import roc_auc_score\n",
    "from sklearn.metrics import ConfusionMatrixDisplay"
   ]
  },
  {
   "cell_type": "markdown",
   "metadata": {},
   "source": [
    "# confusion_matrix_returns function"
   ]
  },
  {
   "cell_type": "code",
   "execution_count": 3,
   "metadata": {
    "collapsed": true
   },
   "outputs": [],
   "source": [
    "def confusion_matrix_returns(y_test_f,predicted_class1_f):\n",
    "    cm_tam_yeni = confusion_matrix(list(y_test_f), list(predicted_class1_f)).ravel()\n",
    "    cm_tam_yeni_len =len(cm_tam_yeni)\n",
    "    root= int(pow(cm_tam_yeni_len, 0.5))\n",
    "    confusion_matrix_m = cm_tam_yeni.reshape(root,root)\n",
    "    FP = confusion_matrix_m.sum(axis=0) - np.diag(confusion_matrix_m)  \n",
    "    FN = confusion_matrix_m.sum(axis=1) - np.diag(confusion_matrix_m)\n",
    "    TP = np.diag(confusion_matrix_m)\n",
    "    TN = confusion_matrix_m.sum() - (FP + FN + TP)\n",
    "\n",
    "    FP = FP.astype(float)\n",
    "    FN = FN.astype(float)\n",
    "    TP = TP.astype(float)\n",
    "    TN = TN.astype(float)\n",
    "\n",
    "\n",
    "    # Sensitivity, hit rate, recall, or true positive rate\n",
    "    TPR = TP/(TP+FN)\n",
    "    # Specificity or true negative rate\n",
    "    TNR = TN/(TN+FP) \n",
    "    # Precision or positive predictive value\n",
    "    PPV = TP/(TP+FP)\n",
    "    # Negative predictive value\n",
    "    NPV = TN/(TN+FN)\n",
    "    # Fall out or false positive rate\n",
    "    FPR = FP/(FP+TN)\n",
    "    # False negative rate\n",
    "    FNR = FN/(TP+FN)\n",
    "    # False discovery rate\n",
    "    FDR = FP/(TP+FP)\n",
    "\n",
    "\n",
    "    f1_score =(2*(PPV * TPR))/(PPV + TPR)\n",
    "\n",
    "\n",
    "    # Overall accuracy\n",
    "    ACC = (TP+TN)/(TP+FP+FN+TN)\n",
    "\n",
    "    accuracy = ACC.mean()\n",
    "    Precision = PPV.mean()\n",
    "    Sensitivity = TPR.mean()\n",
    "    Specificity = TNR.mean()\n",
    "    f1_score =(2*(Precision * Sensitivity))/(Precision + Sensitivity)\n",
    "    \n",
    "    print(\"Accuracy: \" , accuracy)\n",
    "    print(\"Precision: \" , PPV.mean())\n",
    "    print(\"Sensitivity: \" , TPR.mean())\n",
    "    print(\"Specificity: \" , TNR.mean())\n",
    "    print(\"F1_Score: \" , f1_score.mean())\n",
    "    return accuracy,Precision, Sensitivity, Specificity, f1_score"
   ]
  },
  {
   "cell_type": "code",
   "execution_count": 4,
   "metadata": {},
   "outputs": [
    {
     "ename": "NameError",
     "evalue": "name 'y_test' is not defined",
     "output_type": "error",
     "traceback": [
      "\u001b[1;31m---------------------------------------------------------------------------\u001b[0m",
      "\u001b[1;31mNameError\u001b[0m                                 Traceback (most recent call last)",
      "\u001b[1;32m<ipython-input-4-b65360a888b6>\u001b[0m in \u001b[0;36m<module>\u001b[1;34m()\u001b[0m\n\u001b[1;32m----> 1\u001b[1;33m \u001b[0mconfusion_matrix\u001b[0m\u001b[1;33m(\u001b[0m\u001b[0mlist\u001b[0m\u001b[1;33m(\u001b[0m\u001b[0my_test\u001b[0m\u001b[1;33m)\u001b[0m\u001b[1;33m,\u001b[0m\u001b[0mlist\u001b[0m\u001b[1;33m(\u001b[0m\u001b[0mpredicted_class1\u001b[0m\u001b[1;33m)\u001b[0m\u001b[1;33m)\u001b[0m\u001b[1;33m\u001b[0m\u001b[0m\n\u001b[0m",
      "\u001b[1;31mNameError\u001b[0m: name 'y_test' is not defined"
     ]
    }
   ],
   "source": [
    "confusion_matrix(list(y_test),list(predicted_class1))"
   ]
  },
  {
   "cell_type": "markdown",
   "metadata": {},
   "source": [
    "# come_back = 100"
   ]
  },
  {
   "cell_type": "code",
   "execution_count": 3,
   "metadata": {},
   "outputs": [
    {
     "name": "stdout",
     "output_type": "stream",
     "text": [
      "Hisse=ADEL,Kazanc=31,Reverse_Row_finish=108,counter_back=83 \n",
      "Kazanc\n",
      "\n",
      "ADEL\n",
      "\n",
      "31\n",
      "\n",
      "108\n",
      "\n",
      "83 \n",
      "\n",
      "Hisse=ADEL,Kazanc=38,Reverse_Row_finish=605,counter_back=30 \n",
      "Kazanc\n",
      "\n",
      "ADEL\n",
      "\n",
      "38\n",
      "\n",
      "605\n",
      "\n",
      "30 \n",
      "\n",
      "Hisse=ADEL,Kazanc=38,Reverse_Row_finish=682,counter_back=26 \n",
      "Kazanc\n",
      "\n",
      "ADEL\n",
      "\n",
      "38\n",
      "\n",
      "682\n",
      "\n",
      "26 \n",
      "\n",
      "Hisse=ADEL,Tuzak=1,Reverse_Row_finish=847,counter_back=80 \n",
      "Tuzak\n",
      "\n",
      "ADEL\n",
      "\n",
      "\n",
      "\n",
      "847\n",
      "\n",
      "80 \n",
      "\n",
      "Hisse=ADEL,Tuzak=6,Reverse_Row_finish=931,counter_back=77 \n",
      "Tuzak\n",
      "\n",
      "ADEL\n",
      "\n",
      "\n",
      "\n",
      "931\n",
      "\n",
      "77 \n",
      "\n",
      "Hisse=ADEL,Kazanc=27,Reverse_Row_finish=987,counter_back=27 \n",
      "Kazanc\n",
      "\n",
      "ADEL\n",
      "\n",
      "27\n",
      "\n",
      "987\n",
      "\n",
      "27 \n",
      "\n"
     ]
    },
    {
     "ename": "KeyboardInterrupt",
     "evalue": "",
     "output_type": "error",
     "traceback": [
      "\u001b[1;31m---------------------------------------------------------------------------\u001b[0m",
      "\u001b[1;31mKeyboardInterrupt\u001b[0m                         Traceback (most recent call last)",
      "\u001b[1;32m<ipython-input-3-723be130632e>\u001b[0m in \u001b[0;36m<module>\u001b[1;34m()\u001b[0m\n\u001b[0;32m     43\u001b[0m     \u001b[0mos\u001b[0m\u001b[1;33m.\u001b[0m\u001b[0mchdir\u001b[0m\u001b[1;33m(\u001b[0m\u001b[0mpath\u001b[0m\u001b[1;33m=\u001b[0m\u001b[1;34mr'C:\\\\Users\\\\LenovoE73\\\\Desktop\\\\data\\\\tez_datalar\\\\hisse_datalar_xls'\u001b[0m\u001b[1;33m)\u001b[0m\u001b[1;33m\u001b[0m\u001b[0m\n\u001b[0;32m     44\u001b[0m \u001b[1;33m\u001b[0m\u001b[0m\n\u001b[1;32m---> 45\u001b[1;33m     \u001b[0mxl\u001b[0m \u001b[1;33m=\u001b[0m \u001b[0mpd\u001b[0m\u001b[1;33m.\u001b[0m\u001b[0mExcelFile\u001b[0m\u001b[1;33m(\u001b[0m\u001b[0mstock_code_adi\u001b[0m\u001b[1;33m)\u001b[0m\u001b[1;33m\u001b[0m\u001b[0m\n\u001b[0m\u001b[0;32m     46\u001b[0m \u001b[1;33m\u001b[0m\u001b[0m\n\u001b[0;32m     47\u001b[0m     \u001b[1;31m# Print the sheet names\u001b[0m\u001b[1;33m\u001b[0m\u001b[1;33m\u001b[0m\u001b[0m\n",
      "\u001b[1;32m~\\Anaconda3\\lib\\site-packages\\pandas\\io\\excel\\_base.py\u001b[0m in \u001b[0;36m__init__\u001b[1;34m(self, io, engine)\u001b[0m\n\u001b[0;32m    822\u001b[0m         \u001b[0mself\u001b[0m\u001b[1;33m.\u001b[0m\u001b[0m_io\u001b[0m \u001b[1;33m=\u001b[0m \u001b[0mstringify_path\u001b[0m\u001b[1;33m(\u001b[0m\u001b[0mio\u001b[0m\u001b[1;33m)\u001b[0m\u001b[1;33m\u001b[0m\u001b[0m\n\u001b[0;32m    823\u001b[0m \u001b[1;33m\u001b[0m\u001b[0m\n\u001b[1;32m--> 824\u001b[1;33m         \u001b[0mself\u001b[0m\u001b[1;33m.\u001b[0m\u001b[0m_reader\u001b[0m \u001b[1;33m=\u001b[0m \u001b[0mself\u001b[0m\u001b[1;33m.\u001b[0m\u001b[0m_engines\u001b[0m\u001b[1;33m[\u001b[0m\u001b[0mengine\u001b[0m\u001b[1;33m]\u001b[0m\u001b[1;33m(\u001b[0m\u001b[0mself\u001b[0m\u001b[1;33m.\u001b[0m\u001b[0m_io\u001b[0m\u001b[1;33m)\u001b[0m\u001b[1;33m\u001b[0m\u001b[0m\n\u001b[0m\u001b[0;32m    825\u001b[0m \u001b[1;33m\u001b[0m\u001b[0m\n\u001b[0;32m    826\u001b[0m     \u001b[1;32mdef\u001b[0m \u001b[0m__fspath__\u001b[0m\u001b[1;33m(\u001b[0m\u001b[0mself\u001b[0m\u001b[1;33m)\u001b[0m\u001b[1;33m:\u001b[0m\u001b[1;33m\u001b[0m\u001b[0m\n",
      "\u001b[1;32m~\\Anaconda3\\lib\\site-packages\\pandas\\io\\excel\\_xlrd.py\u001b[0m in \u001b[0;36m__init__\u001b[1;34m(self, filepath_or_buffer)\u001b[0m\n\u001b[0;32m     19\u001b[0m         \u001b[0merr_msg\u001b[0m \u001b[1;33m=\u001b[0m \u001b[1;34m\"Install xlrd >= 1.0.0 for Excel support\"\u001b[0m\u001b[1;33m\u001b[0m\u001b[0m\n\u001b[0;32m     20\u001b[0m         \u001b[0mimport_optional_dependency\u001b[0m\u001b[1;33m(\u001b[0m\u001b[1;34m\"xlrd\"\u001b[0m\u001b[1;33m,\u001b[0m \u001b[0mextra\u001b[0m\u001b[1;33m=\u001b[0m\u001b[0merr_msg\u001b[0m\u001b[1;33m)\u001b[0m\u001b[1;33m\u001b[0m\u001b[0m\n\u001b[1;32m---> 21\u001b[1;33m         \u001b[0msuper\u001b[0m\u001b[1;33m(\u001b[0m\u001b[1;33m)\u001b[0m\u001b[1;33m.\u001b[0m\u001b[0m__init__\u001b[0m\u001b[1;33m(\u001b[0m\u001b[0mfilepath_or_buffer\u001b[0m\u001b[1;33m)\u001b[0m\u001b[1;33m\u001b[0m\u001b[0m\n\u001b[0m\u001b[0;32m     22\u001b[0m \u001b[1;33m\u001b[0m\u001b[0m\n\u001b[0;32m     23\u001b[0m     \u001b[1;33m@\u001b[0m\u001b[0mproperty\u001b[0m\u001b[1;33m\u001b[0m\u001b[0m\n",
      "\u001b[1;32m~\\Anaconda3\\lib\\site-packages\\pandas\\io\\excel\\_base.py\u001b[0m in \u001b[0;36m__init__\u001b[1;34m(self, filepath_or_buffer)\u001b[0m\n\u001b[0;32m    351\u001b[0m             \u001b[0mself\u001b[0m\u001b[1;33m.\u001b[0m\u001b[0mbook\u001b[0m \u001b[1;33m=\u001b[0m \u001b[0mself\u001b[0m\u001b[1;33m.\u001b[0m\u001b[0mload_workbook\u001b[0m\u001b[1;33m(\u001b[0m\u001b[0mfilepath_or_buffer\u001b[0m\u001b[1;33m)\u001b[0m\u001b[1;33m\u001b[0m\u001b[0m\n\u001b[0;32m    352\u001b[0m         \u001b[1;32melif\u001b[0m \u001b[0misinstance\u001b[0m\u001b[1;33m(\u001b[0m\u001b[0mfilepath_or_buffer\u001b[0m\u001b[1;33m,\u001b[0m \u001b[0mstr\u001b[0m\u001b[1;33m)\u001b[0m\u001b[1;33m:\u001b[0m\u001b[1;33m\u001b[0m\u001b[0m\n\u001b[1;32m--> 353\u001b[1;33m             \u001b[0mself\u001b[0m\u001b[1;33m.\u001b[0m\u001b[0mbook\u001b[0m \u001b[1;33m=\u001b[0m \u001b[0mself\u001b[0m\u001b[1;33m.\u001b[0m\u001b[0mload_workbook\u001b[0m\u001b[1;33m(\u001b[0m\u001b[0mfilepath_or_buffer\u001b[0m\u001b[1;33m)\u001b[0m\u001b[1;33m\u001b[0m\u001b[0m\n\u001b[0m\u001b[0;32m    354\u001b[0m         \u001b[1;32melif\u001b[0m \u001b[0misinstance\u001b[0m\u001b[1;33m(\u001b[0m\u001b[0mfilepath_or_buffer\u001b[0m\u001b[1;33m,\u001b[0m \u001b[0mbytes\u001b[0m\u001b[1;33m)\u001b[0m\u001b[1;33m:\u001b[0m\u001b[1;33m\u001b[0m\u001b[0m\n\u001b[0;32m    355\u001b[0m             \u001b[0mself\u001b[0m\u001b[1;33m.\u001b[0m\u001b[0mbook\u001b[0m \u001b[1;33m=\u001b[0m \u001b[0mself\u001b[0m\u001b[1;33m.\u001b[0m\u001b[0mload_workbook\u001b[0m\u001b[1;33m(\u001b[0m\u001b[0mBytesIO\u001b[0m\u001b[1;33m(\u001b[0m\u001b[0mfilepath_or_buffer\u001b[0m\u001b[1;33m)\u001b[0m\u001b[1;33m)\u001b[0m\u001b[1;33m\u001b[0m\u001b[0m\n",
      "\u001b[1;32m~\\Anaconda3\\lib\\site-packages\\pandas\\io\\excel\\_xlrd.py\u001b[0m in \u001b[0;36mload_workbook\u001b[1;34m(self, filepath_or_buffer)\u001b[0m\n\u001b[0;32m     34\u001b[0m             \u001b[1;32mreturn\u001b[0m \u001b[0mopen_workbook\u001b[0m\u001b[1;33m(\u001b[0m\u001b[0mfile_contents\u001b[0m\u001b[1;33m=\u001b[0m\u001b[0mdata\u001b[0m\u001b[1;33m)\u001b[0m\u001b[1;33m\u001b[0m\u001b[0m\n\u001b[0;32m     35\u001b[0m         \u001b[1;32melse\u001b[0m\u001b[1;33m:\u001b[0m\u001b[1;33m\u001b[0m\u001b[0m\n\u001b[1;32m---> 36\u001b[1;33m             \u001b[1;32mreturn\u001b[0m \u001b[0mopen_workbook\u001b[0m\u001b[1;33m(\u001b[0m\u001b[0mfilepath_or_buffer\u001b[0m\u001b[1;33m)\u001b[0m\u001b[1;33m\u001b[0m\u001b[0m\n\u001b[0m\u001b[0;32m     37\u001b[0m \u001b[1;33m\u001b[0m\u001b[0m\n\u001b[0;32m     38\u001b[0m     \u001b[1;33m@\u001b[0m\u001b[0mproperty\u001b[0m\u001b[1;33m\u001b[0m\u001b[0m\n",
      "\u001b[1;32m~\\Anaconda3\\lib\\site-packages\\xlrd\\__init__.py\u001b[0m in \u001b[0;36mopen_workbook\u001b[1;34m(filename, logfile, verbosity, use_mmap, file_contents, encoding_override, formatting_info, on_demand, ragged_rows)\u001b[0m\n\u001b[0;32m    141\u001b[0m                 \u001b[0mformatting_info\u001b[0m\u001b[1;33m=\u001b[0m\u001b[0mformatting_info\u001b[0m\u001b[1;33m,\u001b[0m\u001b[1;33m\u001b[0m\u001b[0m\n\u001b[0;32m    142\u001b[0m                 \u001b[0mon_demand\u001b[0m\u001b[1;33m=\u001b[0m\u001b[0mon_demand\u001b[0m\u001b[1;33m,\u001b[0m\u001b[1;33m\u001b[0m\u001b[0m\n\u001b[1;32m--> 143\u001b[1;33m                 \u001b[0mragged_rows\u001b[0m\u001b[1;33m=\u001b[0m\u001b[0mragged_rows\u001b[0m\u001b[1;33m,\u001b[0m\u001b[1;33m\u001b[0m\u001b[0m\n\u001b[0m\u001b[0;32m    144\u001b[0m                 )\n\u001b[0;32m    145\u001b[0m             \u001b[1;32mreturn\u001b[0m \u001b[0mbk\u001b[0m\u001b[1;33m\u001b[0m\u001b[0m\n",
      "\u001b[1;32m~\\Anaconda3\\lib\\site-packages\\xlrd\\xlsx.py\u001b[0m in \u001b[0;36mopen_workbook_2007_xml\u001b[1;34m(zf, component_names, logfile, verbosity, use_mmap, formatting_info, on_demand, ragged_rows)\u001b[0m\n\u001b[0;32m    835\u001b[0m         \u001b[0mx12sheet\u001b[0m \u001b[1;33m=\u001b[0m \u001b[0mX12Sheet\u001b[0m\u001b[1;33m(\u001b[0m\u001b[0msheet\u001b[0m\u001b[1;33m,\u001b[0m \u001b[0mlogfile\u001b[0m\u001b[1;33m,\u001b[0m \u001b[0mverbosity\u001b[0m\u001b[1;33m)\u001b[0m\u001b[1;33m\u001b[0m\u001b[0m\n\u001b[0;32m    836\u001b[0m         \u001b[0mheading\u001b[0m \u001b[1;33m=\u001b[0m \u001b[1;34m\"Sheet %r (sheetx=%d) from %r\"\u001b[0m \u001b[1;33m%\u001b[0m \u001b[1;33m(\u001b[0m\u001b[0msheet\u001b[0m\u001b[1;33m.\u001b[0m\u001b[0mname\u001b[0m\u001b[1;33m,\u001b[0m \u001b[0msheetx\u001b[0m\u001b[1;33m,\u001b[0m \u001b[0mfname\u001b[0m\u001b[1;33m)\u001b[0m\u001b[1;33m\u001b[0m\u001b[0m\n\u001b[1;32m--> 837\u001b[1;33m         \u001b[0mx12sheet\u001b[0m\u001b[1;33m.\u001b[0m\u001b[0mprocess_stream\u001b[0m\u001b[1;33m(\u001b[0m\u001b[0mzflo\u001b[0m\u001b[1;33m,\u001b[0m \u001b[0mheading\u001b[0m\u001b[1;33m)\u001b[0m\u001b[1;33m\u001b[0m\u001b[0m\n\u001b[0m\u001b[0;32m    838\u001b[0m         \u001b[1;32mdel\u001b[0m \u001b[0mzflo\u001b[0m\u001b[1;33m\u001b[0m\u001b[0m\n\u001b[0;32m    839\u001b[0m \u001b[1;33m\u001b[0m\u001b[0m\n",
      "\u001b[1;32m~\\Anaconda3\\lib\\site-packages\\xlrd\\xlsx.py\u001b[0m in \u001b[0;36mown_process_stream\u001b[1;34m(self, stream, heading)\u001b[0m\n\u001b[0;32m    544\u001b[0m         \u001b[0mrow_tag\u001b[0m \u001b[1;33m=\u001b[0m \u001b[0mU_SSML12\u001b[0m \u001b[1;33m+\u001b[0m \u001b[1;34m\"row\"\u001b[0m\u001b[1;33m\u001b[0m\u001b[0m\n\u001b[0;32m    545\u001b[0m         \u001b[0mself_do_row\u001b[0m \u001b[1;33m=\u001b[0m \u001b[0mself\u001b[0m\u001b[1;33m.\u001b[0m\u001b[0mdo_row\u001b[0m\u001b[1;33m\u001b[0m\u001b[0m\n\u001b[1;32m--> 546\u001b[1;33m         \u001b[1;32mfor\u001b[0m \u001b[0mevent\u001b[0m\u001b[1;33m,\u001b[0m \u001b[0melem\u001b[0m \u001b[1;32min\u001b[0m \u001b[0mET\u001b[0m\u001b[1;33m.\u001b[0m\u001b[0miterparse\u001b[0m\u001b[1;33m(\u001b[0m\u001b[0mstream\u001b[0m\u001b[1;33m)\u001b[0m\u001b[1;33m:\u001b[0m\u001b[1;33m\u001b[0m\u001b[0m\n\u001b[0m\u001b[0;32m    547\u001b[0m             \u001b[1;32mif\u001b[0m \u001b[0melem\u001b[0m\u001b[1;33m.\u001b[0m\u001b[0mtag\u001b[0m \u001b[1;33m==\u001b[0m \u001b[0mrow_tag\u001b[0m\u001b[1;33m:\u001b[0m\u001b[1;33m\u001b[0m\u001b[0m\n\u001b[0;32m    548\u001b[0m                 \u001b[0mself_do_row\u001b[0m\u001b[1;33m(\u001b[0m\u001b[0melem\u001b[0m\u001b[1;33m)\u001b[0m\u001b[1;33m\u001b[0m\u001b[0m\n",
      "\u001b[1;32m~\\Anaconda3\\lib\\xml\\etree\\ElementTree.py\u001b[0m in \u001b[0;36miterator\u001b[1;34m()\u001b[0m\n\u001b[0;32m   1221\u001b[0m                 \u001b[1;32myield\u001b[0m \u001b[1;32mfrom\u001b[0m \u001b[0mpullparser\u001b[0m\u001b[1;33m.\u001b[0m\u001b[0mread_events\u001b[0m\u001b[1;33m(\u001b[0m\u001b[1;33m)\u001b[0m\u001b[1;33m\u001b[0m\u001b[0m\n\u001b[0;32m   1222\u001b[0m                 \u001b[1;31m# load event buffer\u001b[0m\u001b[1;33m\u001b[0m\u001b[1;33m\u001b[0m\u001b[0m\n\u001b[1;32m-> 1223\u001b[1;33m                 \u001b[0mdata\u001b[0m \u001b[1;33m=\u001b[0m \u001b[0msource\u001b[0m\u001b[1;33m.\u001b[0m\u001b[0mread\u001b[0m\u001b[1;33m(\u001b[0m\u001b[1;36m16\u001b[0m \u001b[1;33m*\u001b[0m \u001b[1;36m1024\u001b[0m\u001b[1;33m)\u001b[0m\u001b[1;33m\u001b[0m\u001b[0m\n\u001b[0m\u001b[0;32m   1224\u001b[0m                 \u001b[1;32mif\u001b[0m \u001b[1;32mnot\u001b[0m \u001b[0mdata\u001b[0m\u001b[1;33m:\u001b[0m\u001b[1;33m\u001b[0m\u001b[0m\n\u001b[0;32m   1225\u001b[0m                     \u001b[1;32mbreak\u001b[0m\u001b[1;33m\u001b[0m\u001b[0m\n",
      "\u001b[1;32m~\\Anaconda3\\lib\\zipfile.py\u001b[0m in \u001b[0;36mread\u001b[1;34m(self, n)\u001b[0m\n\u001b[0;32m    847\u001b[0m         \u001b[0mself\u001b[0m\u001b[1;33m.\u001b[0m\u001b[0m_offset\u001b[0m \u001b[1;33m=\u001b[0m \u001b[1;36m0\u001b[0m\u001b[1;33m\u001b[0m\u001b[0m\n\u001b[0;32m    848\u001b[0m         \u001b[1;32mwhile\u001b[0m \u001b[0mn\u001b[0m \u001b[1;33m>\u001b[0m \u001b[1;36m0\u001b[0m \u001b[1;32mand\u001b[0m \u001b[1;32mnot\u001b[0m \u001b[0mself\u001b[0m\u001b[1;33m.\u001b[0m\u001b[0m_eof\u001b[0m\u001b[1;33m:\u001b[0m\u001b[1;33m\u001b[0m\u001b[0m\n\u001b[1;32m--> 849\u001b[1;33m             \u001b[0mdata\u001b[0m \u001b[1;33m=\u001b[0m \u001b[0mself\u001b[0m\u001b[1;33m.\u001b[0m\u001b[0m_read1\u001b[0m\u001b[1;33m(\u001b[0m\u001b[0mn\u001b[0m\u001b[1;33m)\u001b[0m\u001b[1;33m\u001b[0m\u001b[0m\n\u001b[0m\u001b[0;32m    850\u001b[0m             \u001b[1;32mif\u001b[0m \u001b[0mn\u001b[0m \u001b[1;33m<\u001b[0m \u001b[0mlen\u001b[0m\u001b[1;33m(\u001b[0m\u001b[0mdata\u001b[0m\u001b[1;33m)\u001b[0m\u001b[1;33m:\u001b[0m\u001b[1;33m\u001b[0m\u001b[0m\n\u001b[0;32m    851\u001b[0m                 \u001b[0mself\u001b[0m\u001b[1;33m.\u001b[0m\u001b[0m_readbuffer\u001b[0m \u001b[1;33m=\u001b[0m \u001b[0mdata\u001b[0m\u001b[1;33m\u001b[0m\u001b[0m\n",
      "\u001b[1;32m~\\Anaconda3\\lib\\zipfile.py\u001b[0m in \u001b[0;36m_read1\u001b[1;34m(self, n)\u001b[0m\n\u001b[0;32m    915\u001b[0m             \u001b[0mdata\u001b[0m \u001b[1;33m=\u001b[0m \u001b[0mself\u001b[0m\u001b[1;33m.\u001b[0m\u001b[0m_decompressor\u001b[0m\u001b[1;33m.\u001b[0m\u001b[0munconsumed_tail\u001b[0m\u001b[1;33m\u001b[0m\u001b[0m\n\u001b[0;32m    916\u001b[0m             \u001b[1;32mif\u001b[0m \u001b[0mn\u001b[0m \u001b[1;33m>\u001b[0m \u001b[0mlen\u001b[0m\u001b[1;33m(\u001b[0m\u001b[0mdata\u001b[0m\u001b[1;33m)\u001b[0m\u001b[1;33m:\u001b[0m\u001b[1;33m\u001b[0m\u001b[0m\n\u001b[1;32m--> 917\u001b[1;33m                 \u001b[0mdata\u001b[0m \u001b[1;33m+=\u001b[0m \u001b[0mself\u001b[0m\u001b[1;33m.\u001b[0m\u001b[0m_read2\u001b[0m\u001b[1;33m(\u001b[0m\u001b[0mn\u001b[0m \u001b[1;33m-\u001b[0m \u001b[0mlen\u001b[0m\u001b[1;33m(\u001b[0m\u001b[0mdata\u001b[0m\u001b[1;33m)\u001b[0m\u001b[1;33m)\u001b[0m\u001b[1;33m\u001b[0m\u001b[0m\n\u001b[0m\u001b[0;32m    918\u001b[0m         \u001b[1;32melse\u001b[0m\u001b[1;33m:\u001b[0m\u001b[1;33m\u001b[0m\u001b[0m\n\u001b[0;32m    919\u001b[0m             \u001b[0mdata\u001b[0m \u001b[1;33m=\u001b[0m \u001b[0mself\u001b[0m\u001b[1;33m.\u001b[0m\u001b[0m_read2\u001b[0m\u001b[1;33m(\u001b[0m\u001b[0mn\u001b[0m\u001b[1;33m)\u001b[0m\u001b[1;33m\u001b[0m\u001b[0m\n",
      "\u001b[1;32m~\\Anaconda3\\lib\\zipfile.py\u001b[0m in \u001b[0;36m_read2\u001b[1;34m(self, n)\u001b[0m\n\u001b[0;32m    947\u001b[0m         \u001b[0mn\u001b[0m \u001b[1;33m=\u001b[0m \u001b[0mmin\u001b[0m\u001b[1;33m(\u001b[0m\u001b[0mn\u001b[0m\u001b[1;33m,\u001b[0m \u001b[0mself\u001b[0m\u001b[1;33m.\u001b[0m\u001b[0m_compress_left\u001b[0m\u001b[1;33m)\u001b[0m\u001b[1;33m\u001b[0m\u001b[0m\n\u001b[0;32m    948\u001b[0m \u001b[1;33m\u001b[0m\u001b[0m\n\u001b[1;32m--> 949\u001b[1;33m         \u001b[0mdata\u001b[0m \u001b[1;33m=\u001b[0m \u001b[0mself\u001b[0m\u001b[1;33m.\u001b[0m\u001b[0m_fileobj\u001b[0m\u001b[1;33m.\u001b[0m\u001b[0mread\u001b[0m\u001b[1;33m(\u001b[0m\u001b[0mn\u001b[0m\u001b[1;33m)\u001b[0m\u001b[1;33m\u001b[0m\u001b[0m\n\u001b[0m\u001b[0;32m    950\u001b[0m         \u001b[0mself\u001b[0m\u001b[1;33m.\u001b[0m\u001b[0m_compress_left\u001b[0m \u001b[1;33m-=\u001b[0m \u001b[0mlen\u001b[0m\u001b[1;33m(\u001b[0m\u001b[0mdata\u001b[0m\u001b[1;33m)\u001b[0m\u001b[1;33m\u001b[0m\u001b[0m\n\u001b[0;32m    951\u001b[0m         \u001b[1;32mif\u001b[0m \u001b[1;32mnot\u001b[0m \u001b[0mdata\u001b[0m\u001b[1;33m:\u001b[0m\u001b[1;33m\u001b[0m\u001b[0m\n",
      "\u001b[1;32m~\\Anaconda3\\lib\\zipfile.py\u001b[0m in \u001b[0;36mread\u001b[1;34m(self, n)\u001b[0m\n\u001b[0;32m    704\u001b[0m                         \"Close the writing handle before trying to read.\")\n\u001b[0;32m    705\u001b[0m             \u001b[0mself\u001b[0m\u001b[1;33m.\u001b[0m\u001b[0m_file\u001b[0m\u001b[1;33m.\u001b[0m\u001b[0mseek\u001b[0m\u001b[1;33m(\u001b[0m\u001b[0mself\u001b[0m\u001b[1;33m.\u001b[0m\u001b[0m_pos\u001b[0m\u001b[1;33m)\u001b[0m\u001b[1;33m\u001b[0m\u001b[0m\n\u001b[1;32m--> 706\u001b[1;33m             \u001b[0mdata\u001b[0m \u001b[1;33m=\u001b[0m \u001b[0mself\u001b[0m\u001b[1;33m.\u001b[0m\u001b[0m_file\u001b[0m\u001b[1;33m.\u001b[0m\u001b[0mread\u001b[0m\u001b[1;33m(\u001b[0m\u001b[0mn\u001b[0m\u001b[1;33m)\u001b[0m\u001b[1;33m\u001b[0m\u001b[0m\n\u001b[0m\u001b[0;32m    707\u001b[0m             \u001b[0mself\u001b[0m\u001b[1;33m.\u001b[0m\u001b[0m_pos\u001b[0m \u001b[1;33m=\u001b[0m \u001b[0mself\u001b[0m\u001b[1;33m.\u001b[0m\u001b[0m_file\u001b[0m\u001b[1;33m.\u001b[0m\u001b[0mtell\u001b[0m\u001b[1;33m(\u001b[0m\u001b[1;33m)\u001b[0m\u001b[1;33m\u001b[0m\u001b[0m\n\u001b[0;32m    708\u001b[0m             \u001b[1;32mreturn\u001b[0m \u001b[0mdata\u001b[0m\u001b[1;33m\u001b[0m\u001b[0m\n",
      "\u001b[1;31mKeyboardInterrupt\u001b[0m: "
     ]
    }
   ],
   "source": [
    "i = 0\n",
    "j = 0\n",
    "\n",
    "come_back = 100\n",
    "\n",
    "kazanc_tuzak = \"\"\n",
    "\n",
    "feature_list=['DI+','DI-','MFI','MFI_EMA_9','RSI','RSI_EMA_9','EMA9_EMA50_dist_sign'\n",
    "              ,'EMA9_EMA50_dist','EMA9_EMA200_dist_sign','EMA9_EMA200_dist',\n",
    "              'EMA50_EMA200_dist_sign','EMA50_EMA200_dist','Reverse_Row','date','EMA_9','EMA_50','EMA_200']\n",
    "\n",
    "stock_code_adi=''\n",
    "post_fix =\".xlsx\"\n",
    "file = open(\"C:/Users/LenovoE73/Desktop/data/tez_datalar/hisseler_Kopya.txt\",\"r\",encoding=\"utf-8\") # Dosyayı okuma kipiyle açıyoruz. Türkçe karaktere dikkat.\n",
    "# Convolutional işlemi için dosyaya yazdırma işlemleri yapılıyor. Getiri ve Tuzak matrisleri kaydediliyor.\n",
    "dataset_2 = open(\"C:/Users/LenovoE73/Desktop/data/tez_datalar/return_ratio/dataset_2.txt\",\"r\")\n",
    "\n",
    "for line in dataset_2: # Tıpkı listeler gibi dosyanın her bir satırı üzerinde geziniyoruz.\n",
    "    print(line,end = \"\") # Her bir satırı ekrana basıyoruz. end parametresi \\\\n yerine boşluk alacak.\n",
    "    if line.find(\"Kazanc\")>-1:\n",
    "        kazanc_tuzak = \"Kazanc\"\n",
    "    else:\n",
    "        kazanc_tuzak = \"Tuzak\"    \n",
    "    index = line.rfind(kazanc_tuzak)\n",
    "    stock_code =line[6:index-1]\n",
    "    stock_code =stock_code.strip()\n",
    "    stock_code_adi = stock_code + post_fix\n",
    "    Reverse_Row_finish_int = line.rfind(\"Reverse_Row_finish\")\n",
    "    kar_durumu = line[index+7:Reverse_Row_finish_int-1]\n",
    "    print(kazanc_tuzak + \"\\n\")\n",
    "    print(stock_code + \"\\n\")\n",
    "    print(kar_durumu + \"\\n\")\n",
    "    counter_back_int    =  line.rfind(\"counter_back\")\n",
    "    counter_back_string = line[Reverse_Row_finish_int+7:Reverse_Row_finish_int-1]\n",
    "    line = line[Reverse_Row_finish_int+19:]\n",
    "    comma_int = line.rfind(\",\")\n",
    "    counter_back = line[:comma_int]\n",
    "    print(counter_back+ \"\\n\")\n",
    "    line = line[comma_int+14:]\n",
    "    print(line)\n",
    "\n",
    "    #Excellerin alınacağı Path e geldik\n",
    "    os.chdir(path=r'C:\\\\Users\\\\LenovoE73\\\\Desktop\\\\data\\\\tez_datalar\\\\hisse_datalar_xls')\n",
    "\n",
    "    xl = pd.ExcelFile(stock_code_adi)\n",
    "\n",
    "    # Print the sheet names\n",
    "    #print(xl.sheet_names)\n",
    "\n",
    "    # Load a sheet into a DataFrame by name: df1\n",
    "    hisse = xl.parse(stock_code)\n",
    "    hisse = hisse.iloc[int(counter_back)-come_back :int(counter_back)]\n",
    "    hisse = hisse[feature_list]\n",
    "    name=stock_code\n",
    "\n",
    "    if kazanc_tuzak == \"Kazanc\":\n",
    "        i = i + 1\n",
    "        os.chdir(path=r'C:\\\\Users\\\\LenovoE73\\\\Desktop\\\\data\\\\tez_datalar\\\\convolutional_matrix\\\\data_set_standart_previous\\\\100');\n",
    "        hisse.to_excel(name + str(i) + \"_Kazanc.xlsx\",sheet_name= name + str(i) + \"_Kazanc.xlsx\")\n",
    "    else:\n",
    "        j = j + 1\n",
    "        os.chdir(path=r'C:\\\\Users\\\\LenovoE73\\\\Desktop\\\\data\\\\tez_datalar\\\\convolutional_matrix\\\\data_set_standart_previous\\\\100');\n",
    "        hisse.to_excel(name + str(j) + \"_Tuzak.xlsx\",sheet_name= name + str(j) + \"_Tuzak.xlsx\")\n",
    "\n",
    "print(\"işlemler tamam \\n\")\n",
    "file.close()\n",
    "dataset_2.close()\n",
    "print(\"Dosyalar kapandı\")"
   ]
  },
  {
   "cell_type": "markdown",
   "metadata": {},
   "source": [
    "# Convolution Neural Networktaki excellerin isimleri alınıyor.\n",
    "# ve bir dosyaya isimler kaydediliyor"
   ]
  },
  {
   "cell_type": "code",
   "execution_count": null,
   "metadata": {
    "collapsed": true
   },
   "outputs": [],
   "source": [
    "feature_list=['DI+','DI-','MFI','MFI_EMA_9','RSI','RSI_EMA_9','EMA9_EMA50_dist_sign'\n",
    " ,'EMA9_EMA50_dist','EMA9_EMA200_dist_sign','EMA9_EMA200_dist',\n",
    "  'EMA50_EMA200_dist_sign','EMA50_EMA200_dist']\n",
    "\n",
    "feature_list_base = ['DI+', 'DI-', 'MFI', 'MFI_EMA_9', 'MFI_MA_3', 'RSI', 'RSI_MA_14','RSI_EMA_9', 'WR', \n",
    " 'PPO_histo', 'PPO', 'PPO_signal', 'CCI', 'CMO','MACD', 'MACD_signal', 'ROC_9', 'CMFI'\n",
    ",'class_name']\n",
    "\n",
    "\n",
    "\n",
    "\n",
    "feature_list = feature_list_base\n",
    "\n",
    "\n",
    "stock_code_adi=''\n",
    "post_fix =\".xlsx\"\n",
    "file = open(\"C:/Users/LenovoE73/Desktop/data/tez_datalar/convolutional_matrix/data_set_list.txt\",\"r\",encoding=\"utf-8\") # Dosyayı okuma kipiyle açıyoruz. Türkçe karaktere dikkat.\n",
    "\n",
    "#dosyaya dataları tek tek sınıflıyoruz. dosyaya ekleme kipi ile açıyoruz     \n",
    "for stock_code in file: # Tıpkı listeler gibi dosyanın her bir satırı üzerinde geziniyoruz.\n",
    "    print(stock_code) # Her bir satırı ekrana basıyoruz. end parametresi \\\\n yerine boşluk alacak.\n",
    "    stock_code = stock_code.strip()\n",
    "    hisse_adi =stock_code.strip()\n",
    "    # illustrate excel files\n",
    "    os.chdir(path=r'C:\\\\Users\\\\LenovoE73\\\\Desktop\\\\data\\\\tez_datalar\\\\convolutional_matrix\\\\data_set_standart_previous\\\\100')\n",
    "    # Load spreadsheet\n",
    "    xl = pd.ExcelFile(stock_code)\n",
    "    # Print the sheet names\n",
    "    #print(xl.sheet_names)\n",
    "    # Load a sheet into a DataFrame by name: df1\n",
    "    hisseler = xl.parse(hisse_adi)\n",
    "    hisseler[\"EMA9_EMA50_dist\"]=hisseler[\"EMA9_EMA50_dist\"]*1000\n",
    "    hisseler[\"EMA9_EMA200_dist\"]=hisseler[\"EMA9_EMA200_dist\"]*1000\n",
    "    hisseler[\"EMA50_EMA200_dist\"]=hisseler[\"EMA50_EMA200_dist\"]*1000\n",
    "    hisseler = hisseler[feature_list]\n",
    "    os.chdir(path=r'C:\\\\Users\\\\LenovoE73\\\\Desktop\\\\data\\\\tez_datalar\\\\convolutional_matrix\\\\data_set_standart_previous\\\\100_pre_process');\n",
    "    hisseler.to_excel(stock_code,sheet_name= stock_code)\n",
    "    print(\"hisse kaydedildi\\n\")\n",
    "    print(type(hisseler))\n",
    "    hisse =  hisseler\n",
    "    hisseler = hisseler.to_numpy()\n",
    "    print(type(hisseler))\n",
    "    print(hisseler)\n",
    "print(\"------İşlem Tamam------\")"
   ]
  },
  {
   "cell_type": "markdown",
   "metadata": {},
   "source": [
    "# min max scaler fonksiyon ile exceller resim formatına dönüştürülüyor.\n",
    "# data_set_image isimli dosyaya kaydedilip resim şekline dönüştürülüyor.\n"
   ]
  },
  {
   "cell_type": "code",
   "execution_count": null,
   "metadata": {
    "collapsed": true,
    "scrolled": true
   },
   "outputs": [],
   "source": [
    "#Tüm hisseler başına döngü değişkenleri\n",
    "counter =1\n",
    "exceptional_value =1\n",
    "total=1\n",
    "\n",
    "# Hisse başına döngüler\n",
    "counter_ic_sayac =1\n",
    "exceptional_value_ic = 1\n",
    "func_return_EMA_counter = []\n",
    "func_return_EMA_row  = []\n",
    "i = 1\n",
    "\n",
    "feature_list=['DI+','DI-','MFI','MFI_EMA_9','RSI','RSI_EMA_9','EMA9_EMA50_dist_sign'\n",
    "             ,'EMA9_EMA50_dist','EMA9_EMA200_dist_sign','EMA9_EMA200_dist',\n",
    "              'EMA50_EMA200_dist_sign','EMA50_EMA200_dist']\n",
    "\n",
    "\n",
    "stock_code_adi=''\n",
    "post_fix =\".xlsx\"\n",
    "file = open(\"C:/Users/LenovoE73/Desktop/data/tez_datalar/convolutional_matrix/data_set_list.txt\",\"r\",encoding=\"utf-8\") # Dosyayı okuma kipiyle açıyoruz. Türkçe karaktere dikkat.\n",
    "\n",
    "#dosyaya dataları tek tek sınıflıyoruz. dosyaya ekleme kipi ile açıyoruz     \n",
    "for stock_code in file: # Tıpkı listeler gibi dosyanın her bir satırı üzerinde geziniyoruz.\n",
    "    print(stock_code) # Her bir satırı ekrana basıyoruz. end parametresi \\\\n yerine boşluk alacak.\n",
    "    stock_code = stock_code.strip()\n",
    "    hisse_adi =stock_code.strip()\n",
    "    # illustrate excel files\n",
    "    os.chdir(path=r'C:\\\\Users\\\\LenovoE73\\\\Desktop\\\\data\\\\tez_datalar\\\\convolutional_matrix\\\\data_set_standart_previous\\\\100_pre_process')\n",
    "    # Load spreadsheet\n",
    "    xl = pd.ExcelFile(stock_code)\n",
    "    # Print the sheet names\n",
    "    #print(xl.sheet_names)\n",
    "    # Load a sheet into a DataFrame by name: df1\n",
    "    hisse = xl.parse(hisse_adi)\n",
    "    hisse = hisse[feature_list]\n",
    "    adx = finlab.MinMaxScaler_Function(hisse)\n",
    "    os.chdir(path=r'C:\\\\Users\\\\LenovoE73\\\\Desktop\\\\data\\\\tez_datalar\\\\convolutional_matrix\\\\data_set_standart_previous\\\\100_pre_process_image');\n",
    "    adx.to_excel(stock_code,sheet_name= stock_code)\n",
    "\n",
    "print(\"------İşlem Tamam------\")"
   ]
  },
  {
   "cell_type": "code",
   "execution_count": 4,
   "metadata": {
    "collapsed": true
   },
   "outputs": [],
   "source": [
    "feature_list=['DI+','DI-','MFI','MFI_EMA_9','RSI','RSI_EMA_9','EMA9_EMA50_dist_sign'\n",
    "             ,'EMA9_EMA50_dist','EMA9_EMA200_dist_sign','EMA9_EMA200_dist',\n",
    "              'EMA50_EMA200_dist_sign','EMA50_EMA200_dist']\n",
    "\n",
    "os.chdir(path=r'C:\\\\Users\\\\LenovoE73\\\\Desktop\\\\data\\\\tez_datalar\\\\convolutional_matrix\\\\data_set_standart_previous\\\\100_pre_process_image')\n",
    "hisse_adi = \"ADEL4_Tuzak.xlsx\"\n",
    "# Load spreadsheet\n",
    "xl = pd.ExcelFile(hisse_adi)\n",
    "# Print the sheet names\n",
    "#print(xl.sheet_names)\n",
    "# Load a sheet into a DataFrame by name: df1\n",
    "hisse = xl.parse(hisse_adi)\n",
    "hisse = (hisse[feature_list])\n",
    "hisse.to_excel(hisse_adi,sheet_name= hisse_adi)"
   ]
  },
  {
   "cell_type": "code",
   "execution_count": 6,
   "metadata": {
    "scrolled": true
   },
   "outputs": [
    {
     "data": {
      "text/html": [
       "<div>\n",
       "<style scoped>\n",
       "    .dataframe tbody tr th:only-of-type {\n",
       "        vertical-align: middle;\n",
       "    }\n",
       "\n",
       "    .dataframe tbody tr th {\n",
       "        vertical-align: top;\n",
       "    }\n",
       "\n",
       "    .dataframe thead th {\n",
       "        text-align: right;\n",
       "    }\n",
       "</style>\n",
       "<table border=\"1\" class=\"dataframe\">\n",
       "  <thead>\n",
       "    <tr style=\"text-align: right;\">\n",
       "      <th></th>\n",
       "      <th>DI+</th>\n",
       "      <th>DI-</th>\n",
       "      <th>MFI</th>\n",
       "      <th>MFI_EMA_9</th>\n",
       "      <th>RSI</th>\n",
       "      <th>RSI_EMA_9</th>\n",
       "      <th>EMA9_EMA50_dist_sign</th>\n",
       "      <th>EMA9_EMA50_dist</th>\n",
       "      <th>EMA9_EMA200_dist_sign</th>\n",
       "      <th>EMA9_EMA200_dist</th>\n",
       "      <th>EMA50_EMA200_dist_sign</th>\n",
       "      <th>EMA50_EMA200_dist</th>\n",
       "    </tr>\n",
       "  </thead>\n",
       "  <tbody>\n",
       "    <tr>\n",
       "      <th>0</th>\n",
       "      <td>163</td>\n",
       "      <td>15</td>\n",
       "      <td>227</td>\n",
       "      <td>252</td>\n",
       "      <td>190</td>\n",
       "      <td>244</td>\n",
       "      <td>255</td>\n",
       "      <td>115</td>\n",
       "      <td>255</td>\n",
       "      <td>205</td>\n",
       "      <td>255</td>\n",
       "      <td>162</td>\n",
       "    </tr>\n",
       "    <tr>\n",
       "      <th>1</th>\n",
       "      <td>151</td>\n",
       "      <td>9</td>\n",
       "      <td>228</td>\n",
       "      <td>255</td>\n",
       "      <td>194</td>\n",
       "      <td>250</td>\n",
       "      <td>255</td>\n",
       "      <td>124</td>\n",
       "      <td>255</td>\n",
       "      <td>216</td>\n",
       "      <td>255</td>\n",
       "      <td>169</td>\n",
       "    </tr>\n",
       "    <tr>\n",
       "      <th>2</th>\n",
       "      <td>138</td>\n",
       "      <td>5</td>\n",
       "      <td>228</td>\n",
       "      <td>255</td>\n",
       "      <td>197</td>\n",
       "      <td>254</td>\n",
       "      <td>255</td>\n",
       "      <td>130</td>\n",
       "      <td>255</td>\n",
       "      <td>227</td>\n",
       "      <td>255</td>\n",
       "      <td>177</td>\n",
       "    </tr>\n",
       "    <tr>\n",
       "      <th>3</th>\n",
       "      <td>145</td>\n",
       "      <td>0</td>\n",
       "      <td>229</td>\n",
       "      <td>254</td>\n",
       "      <td>191</td>\n",
       "      <td>255</td>\n",
       "      <td>255</td>\n",
       "      <td>133</td>\n",
       "      <td>255</td>\n",
       "      <td>233</td>\n",
       "      <td>255</td>\n",
       "      <td>183</td>\n",
       "    </tr>\n",
       "    <tr>\n",
       "      <th>4</th>\n",
       "      <td>132</td>\n",
       "      <td>27</td>\n",
       "      <td>213</td>\n",
       "      <td>250</td>\n",
       "      <td>180</td>\n",
       "      <td>252</td>\n",
       "      <td>255</td>\n",
       "      <td>131</td>\n",
       "      <td>255</td>\n",
       "      <td>234</td>\n",
       "      <td>255</td>\n",
       "      <td>188</td>\n",
       "    </tr>\n",
       "    <tr>\n",
       "      <th>5</th>\n",
       "      <td>120</td>\n",
       "      <td>29</td>\n",
       "      <td>190</td>\n",
       "      <td>244</td>\n",
       "      <td>158</td>\n",
       "      <td>241</td>\n",
       "      <td>255</td>\n",
       "      <td>123</td>\n",
       "      <td>255</td>\n",
       "      <td>229</td>\n",
       "      <td>255</td>\n",
       "      <td>191</td>\n",
       "    </tr>\n",
       "    <tr>\n",
       "      <th>6</th>\n",
       "      <td>108</td>\n",
       "      <td>34</td>\n",
       "      <td>169</td>\n",
       "      <td>240</td>\n",
       "      <td>155</td>\n",
       "      <td>235</td>\n",
       "      <td>255</td>\n",
       "      <td>115</td>\n",
       "      <td>255</td>\n",
       "      <td>223</td>\n",
       "      <td>255</td>\n",
       "      <td>194</td>\n",
       "    </tr>\n",
       "    <tr>\n",
       "      <th>7</th>\n",
       "      <td>115</td>\n",
       "      <td>27</td>\n",
       "      <td>171</td>\n",
       "      <td>238</td>\n",
       "      <td>166</td>\n",
       "      <td>237</td>\n",
       "      <td>255</td>\n",
       "      <td>111</td>\n",
       "      <td>255</td>\n",
       "      <td>222</td>\n",
       "      <td>255</td>\n",
       "      <td>198</td>\n",
       "    </tr>\n",
       "    <tr>\n",
       "      <th>8</th>\n",
       "      <td>118</td>\n",
       "      <td>21</td>\n",
       "      <td>176</td>\n",
       "      <td>234</td>\n",
       "      <td>170</td>\n",
       "      <td>235</td>\n",
       "      <td>255</td>\n",
       "      <td>110</td>\n",
       "      <td>255</td>\n",
       "      <td>223</td>\n",
       "      <td>255</td>\n",
       "      <td>201</td>\n",
       "    </tr>\n",
       "    <tr>\n",
       "      <th>9</th>\n",
       "      <td>107</td>\n",
       "      <td>16</td>\n",
       "      <td>166</td>\n",
       "      <td>227</td>\n",
       "      <td>183</td>\n",
       "      <td>233</td>\n",
       "      <td>255</td>\n",
       "      <td>112</td>\n",
       "      <td>255</td>\n",
       "      <td>228</td>\n",
       "      <td>255</td>\n",
       "      <td>206</td>\n",
       "    </tr>\n",
       "    <tr>\n",
       "      <th>10</th>\n",
       "      <td>125</td>\n",
       "      <td>10</td>\n",
       "      <td>164</td>\n",
       "      <td>219</td>\n",
       "      <td>203</td>\n",
       "      <td>231</td>\n",
       "      <td>255</td>\n",
       "      <td>122</td>\n",
       "      <td>255</td>\n",
       "      <td>240</td>\n",
       "      <td>255</td>\n",
       "      <td>213</td>\n",
       "    </tr>\n",
       "    <tr>\n",
       "      <th>11</th>\n",
       "      <td>142</td>\n",
       "      <td>5</td>\n",
       "      <td>190</td>\n",
       "      <td>211</td>\n",
       "      <td>201</td>\n",
       "      <td>228</td>\n",
       "      <td>255</td>\n",
       "      <td>128</td>\n",
       "      <td>255</td>\n",
       "      <td>249</td>\n",
       "      <td>255</td>\n",
       "      <td>219</td>\n",
       "    </tr>\n",
       "    <tr>\n",
       "      <th>12</th>\n",
       "      <td>129</td>\n",
       "      <td>5</td>\n",
       "      <td>192</td>\n",
       "      <td>202</td>\n",
       "      <td>197</td>\n",
       "      <td>226</td>\n",
       "      <td>255</td>\n",
       "      <td>130</td>\n",
       "      <td>255</td>\n",
       "      <td>255</td>\n",
       "      <td>255</td>\n",
       "      <td>225</td>\n",
       "    </tr>\n",
       "    <tr>\n",
       "      <th>13</th>\n",
       "      <td>117</td>\n",
       "      <td>56</td>\n",
       "      <td>173</td>\n",
       "      <td>194</td>\n",
       "      <td>155</td>\n",
       "      <td>222</td>\n",
       "      <td>255</td>\n",
       "      <td>122</td>\n",
       "      <td>255</td>\n",
       "      <td>250</td>\n",
       "      <td>255</td>\n",
       "      <td>228</td>\n",
       "    </tr>\n",
       "    <tr>\n",
       "      <th>14</th>\n",
       "      <td>106</td>\n",
       "      <td>102</td>\n",
       "      <td>157</td>\n",
       "      <td>189</td>\n",
       "      <td>109</td>\n",
       "      <td>221</td>\n",
       "      <td>255</td>\n",
       "      <td>102</td>\n",
       "      <td>255</td>\n",
       "      <td>231</td>\n",
       "      <td>255</td>\n",
       "      <td>227</td>\n",
       "    </tr>\n",
       "    <tr>\n",
       "      <th>15</th>\n",
       "      <td>96</td>\n",
       "      <td>152</td>\n",
       "      <td>142</td>\n",
       "      <td>188</td>\n",
       "      <td>80</td>\n",
       "      <td>217</td>\n",
       "      <td>255</td>\n",
       "      <td>74</td>\n",
       "      <td>255</td>\n",
       "      <td>205</td>\n",
       "      <td>255</td>\n",
       "      <td>223</td>\n",
       "    </tr>\n",
       "    <tr>\n",
       "      <th>16</th>\n",
       "      <td>86</td>\n",
       "      <td>137</td>\n",
       "      <td>133</td>\n",
       "      <td>185</td>\n",
       "      <td>97</td>\n",
       "      <td>211</td>\n",
       "      <td>255</td>\n",
       "      <td>58</td>\n",
       "      <td>255</td>\n",
       "      <td>188</td>\n",
       "      <td>255</td>\n",
       "      <td>220</td>\n",
       "    </tr>\n",
       "    <tr>\n",
       "      <th>17</th>\n",
       "      <td>134</td>\n",
       "      <td>123</td>\n",
       "      <td>125</td>\n",
       "      <td>180</td>\n",
       "      <td>118</td>\n",
       "      <td>205</td>\n",
       "      <td>255</td>\n",
       "      <td>51</td>\n",
       "      <td>255</td>\n",
       "      <td>182</td>\n",
       "      <td>255</td>\n",
       "      <td>219</td>\n",
       "    </tr>\n",
       "    <tr>\n",
       "      <th>18</th>\n",
       "      <td>172</td>\n",
       "      <td>110</td>\n",
       "      <td>166</td>\n",
       "      <td>180</td>\n",
       "      <td>156</td>\n",
       "      <td>198</td>\n",
       "      <td>255</td>\n",
       "      <td>61</td>\n",
       "      <td>255</td>\n",
       "      <td>193</td>\n",
       "      <td>255</td>\n",
       "      <td>223</td>\n",
       "    </tr>\n",
       "    <tr>\n",
       "      <th>19</th>\n",
       "      <td>157</td>\n",
       "      <td>98</td>\n",
       "      <td>155</td>\n",
       "      <td>179</td>\n",
       "      <td>159</td>\n",
       "      <td>185</td>\n",
       "      <td>255</td>\n",
       "      <td>69</td>\n",
       "      <td>255</td>\n",
       "      <td>202</td>\n",
       "      <td>255</td>\n",
       "      <td>226</td>\n",
       "    </tr>\n",
       "    <tr>\n",
       "      <th>20</th>\n",
       "      <td>143</td>\n",
       "      <td>91</td>\n",
       "      <td>149</td>\n",
       "      <td>172</td>\n",
       "      <td>162</td>\n",
       "      <td>171</td>\n",
       "      <td>255</td>\n",
       "      <td>76</td>\n",
       "      <td>255</td>\n",
       "      <td>211</td>\n",
       "      <td>255</td>\n",
       "      <td>230</td>\n",
       "    </tr>\n",
       "    <tr>\n",
       "      <th>21</th>\n",
       "      <td>130</td>\n",
       "      <td>83</td>\n",
       "      <td>131</td>\n",
       "      <td>162</td>\n",
       "      <td>158</td>\n",
       "      <td>155</td>\n",
       "      <td>255</td>\n",
       "      <td>80</td>\n",
       "      <td>255</td>\n",
       "      <td>216</td>\n",
       "      <td>255</td>\n",
       "      <td>232</td>\n",
       "    </tr>\n",
       "    <tr>\n",
       "      <th>22</th>\n",
       "      <td>118</td>\n",
       "      <td>88</td>\n",
       "      <td>91</td>\n",
       "      <td>152</td>\n",
       "      <td>148</td>\n",
       "      <td>149</td>\n",
       "      <td>255</td>\n",
       "      <td>79</td>\n",
       "      <td>255</td>\n",
       "      <td>216</td>\n",
       "      <td>255</td>\n",
       "      <td>234</td>\n",
       "    </tr>\n",
       "    <tr>\n",
       "      <th>23</th>\n",
       "      <td>107</td>\n",
       "      <td>78</td>\n",
       "      <td>74</td>\n",
       "      <td>143</td>\n",
       "      <td>148</td>\n",
       "      <td>156</td>\n",
       "      <td>255</td>\n",
       "      <td>78</td>\n",
       "      <td>255</td>\n",
       "      <td>216</td>\n",
       "      <td>255</td>\n",
       "      <td>236</td>\n",
       "    </tr>\n",
       "    <tr>\n",
       "      <th>24</th>\n",
       "      <td>98</td>\n",
       "      <td>68</td>\n",
       "      <td>64</td>\n",
       "      <td>136</td>\n",
       "      <td>153</td>\n",
       "      <td>173</td>\n",
       "      <td>255</td>\n",
       "      <td>78</td>\n",
       "      <td>255</td>\n",
       "      <td>217</td>\n",
       "      <td>255</td>\n",
       "      <td>238</td>\n",
       "    </tr>\n",
       "    <tr>\n",
       "      <th>25</th>\n",
       "      <td>97</td>\n",
       "      <td>59</td>\n",
       "      <td>63</td>\n",
       "      <td>130</td>\n",
       "      <td>161</td>\n",
       "      <td>187</td>\n",
       "      <td>255</td>\n",
       "      <td>80</td>\n",
       "      <td>255</td>\n",
       "      <td>221</td>\n",
       "      <td>255</td>\n",
       "      <td>241</td>\n",
       "    </tr>\n",
       "    <tr>\n",
       "      <th>26</th>\n",
       "      <td>119</td>\n",
       "      <td>51</td>\n",
       "      <td>101</td>\n",
       "      <td>128</td>\n",
       "      <td>175</td>\n",
       "      <td>199</td>\n",
       "      <td>255</td>\n",
       "      <td>86</td>\n",
       "      <td>255</td>\n",
       "      <td>228</td>\n",
       "      <td>255</td>\n",
       "      <td>244</td>\n",
       "    </tr>\n",
       "    <tr>\n",
       "      <th>27</th>\n",
       "      <td>108</td>\n",
       "      <td>43</td>\n",
       "      <td>123</td>\n",
       "      <td>118</td>\n",
       "      <td>179</td>\n",
       "      <td>201</td>\n",
       "      <td>255</td>\n",
       "      <td>91</td>\n",
       "      <td>255</td>\n",
       "      <td>234</td>\n",
       "      <td>255</td>\n",
       "      <td>248</td>\n",
       "    </tr>\n",
       "    <tr>\n",
       "      <th>28</th>\n",
       "      <td>103</td>\n",
       "      <td>36</td>\n",
       "      <td>137</td>\n",
       "      <td>110</td>\n",
       "      <td>184</td>\n",
       "      <td>203</td>\n",
       "      <td>255</td>\n",
       "      <td>96</td>\n",
       "      <td>255</td>\n",
       "      <td>240</td>\n",
       "      <td>255</td>\n",
       "      <td>252</td>\n",
       "    </tr>\n",
       "    <tr>\n",
       "      <th>29</th>\n",
       "      <td>93</td>\n",
       "      <td>29</td>\n",
       "      <td>144</td>\n",
       "      <td>103</td>\n",
       "      <td>180</td>\n",
       "      <td>205</td>\n",
       "      <td>255</td>\n",
       "      <td>98</td>\n",
       "      <td>255</td>\n",
       "      <td>244</td>\n",
       "      <td>255</td>\n",
       "      <td>255</td>\n",
       "    </tr>\n",
       "    <tr>\n",
       "      <th>30</th>\n",
       "      <td>84</td>\n",
       "      <td>82</td>\n",
       "      <td>130</td>\n",
       "      <td>97</td>\n",
       "      <td>124</td>\n",
       "      <td>202</td>\n",
       "      <td>255</td>\n",
       "      <td>86</td>\n",
       "      <td>255</td>\n",
       "      <td>234</td>\n",
       "      <td>255</td>\n",
       "      <td>255</td>\n",
       "    </tr>\n",
       "    <tr>\n",
       "      <th>31</th>\n",
       "      <td>75</td>\n",
       "      <td>75</td>\n",
       "      <td>114</td>\n",
       "      <td>100</td>\n",
       "      <td>121</td>\n",
       "      <td>202</td>\n",
       "      <td>255</td>\n",
       "      <td>76</td>\n",
       "      <td>255</td>\n",
       "      <td>225</td>\n",
       "      <td>255</td>\n",
       "      <td>254</td>\n",
       "    </tr>\n",
       "    <tr>\n",
       "      <th>32</th>\n",
       "      <td>67</td>\n",
       "      <td>66</td>\n",
       "      <td>95</td>\n",
       "      <td>105</td>\n",
       "      <td>135</td>\n",
       "      <td>203</td>\n",
       "      <td>255</td>\n",
       "      <td>72</td>\n",
       "      <td>255</td>\n",
       "      <td>221</td>\n",
       "      <td>255</td>\n",
       "      <td>255</td>\n",
       "    </tr>\n",
       "    <tr>\n",
       "      <th>33</th>\n",
       "      <td>59</td>\n",
       "      <td>57</td>\n",
       "      <td>104</td>\n",
       "      <td>114</td>\n",
       "      <td>115</td>\n",
       "      <td>201</td>\n",
       "      <td>255</td>\n",
       "      <td>63</td>\n",
       "      <td>255</td>\n",
       "      <td>213</td>\n",
       "      <td>255</td>\n",
       "      <td>254</td>\n",
       "    </tr>\n",
       "    <tr>\n",
       "      <th>34</th>\n",
       "      <td>52</td>\n",
       "      <td>223</td>\n",
       "      <td>103</td>\n",
       "      <td>124</td>\n",
       "      <td>46</td>\n",
       "      <td>190</td>\n",
       "      <td>255</td>\n",
       "      <td>30</td>\n",
       "      <td>255</td>\n",
       "      <td>180</td>\n",
       "      <td>255</td>\n",
       "      <td>246</td>\n",
       "    </tr>\n",
       "    <tr>\n",
       "      <th>35</th>\n",
       "      <td>46</td>\n",
       "      <td>203</td>\n",
       "      <td>103</td>\n",
       "      <td>127</td>\n",
       "      <td>60</td>\n",
       "      <td>174</td>\n",
       "      <td>255</td>\n",
       "      <td>8</td>\n",
       "      <td>255</td>\n",
       "      <td>157</td>\n",
       "      <td>255</td>\n",
       "      <td>240</td>\n",
       "    </tr>\n",
       "    <tr>\n",
       "      <th>36</th>\n",
       "      <td>40</td>\n",
       "      <td>204</td>\n",
       "      <td>113</td>\n",
       "      <td>126</td>\n",
       "      <td>35</td>\n",
       "      <td>153</td>\n",
       "      <td>0</td>\n",
       "      <td>13</td>\n",
       "      <td>255</td>\n",
       "      <td>125</td>\n",
       "      <td>255</td>\n",
       "      <td>230</td>\n",
       "    </tr>\n",
       "    <tr>\n",
       "      <th>37</th>\n",
       "      <td>34</td>\n",
       "      <td>185</td>\n",
       "      <td>129</td>\n",
       "      <td>123</td>\n",
       "      <td>53</td>\n",
       "      <td>129</td>\n",
       "      <td>0</td>\n",
       "      <td>32</td>\n",
       "      <td>255</td>\n",
       "      <td>104</td>\n",
       "      <td>255</td>\n",
       "      <td>222</td>\n",
       "    </tr>\n",
       "    <tr>\n",
       "      <th>38</th>\n",
       "      <td>29</td>\n",
       "      <td>169</td>\n",
       "      <td>110</td>\n",
       "      <td>116</td>\n",
       "      <td>44</td>\n",
       "      <td>102</td>\n",
       "      <td>0</td>\n",
       "      <td>51</td>\n",
       "      <td>255</td>\n",
       "      <td>82</td>\n",
       "      <td>255</td>\n",
       "      <td>214</td>\n",
       "    </tr>\n",
       "    <tr>\n",
       "      <th>39</th>\n",
       "      <td>24</td>\n",
       "      <td>153</td>\n",
       "      <td>105</td>\n",
       "      <td>111</td>\n",
       "      <td>69</td>\n",
       "      <td>91</td>\n",
       "      <td>0</td>\n",
       "      <td>58</td>\n",
       "      <td>255</td>\n",
       "      <td>72</td>\n",
       "      <td>255</td>\n",
       "      <td>207</td>\n",
       "    </tr>\n",
       "    <tr>\n",
       "      <th>40</th>\n",
       "      <td>31</td>\n",
       "      <td>138</td>\n",
       "      <td>80</td>\n",
       "      <td>108</td>\n",
       "      <td>72</td>\n",
       "      <td>79</td>\n",
       "      <td>0</td>\n",
       "      <td>62</td>\n",
       "      <td>255</td>\n",
       "      <td>64</td>\n",
       "      <td>255</td>\n",
       "      <td>201</td>\n",
       "    </tr>\n",
       "    <tr>\n",
       "      <th>41</th>\n",
       "      <td>26</td>\n",
       "      <td>152</td>\n",
       "      <td>49</td>\n",
       "      <td>106</td>\n",
       "      <td>52</td>\n",
       "      <td>59</td>\n",
       "      <td>0</td>\n",
       "      <td>74</td>\n",
       "      <td>255</td>\n",
       "      <td>48</td>\n",
       "      <td>255</td>\n",
       "      <td>192</td>\n",
       "    </tr>\n",
       "    <tr>\n",
       "      <th>42</th>\n",
       "      <td>21</td>\n",
       "      <td>207</td>\n",
       "      <td>17</td>\n",
       "      <td>99</td>\n",
       "      <td>28</td>\n",
       "      <td>41</td>\n",
       "      <td>0</td>\n",
       "      <td>98</td>\n",
       "      <td>255</td>\n",
       "      <td>19</td>\n",
       "      <td>255</td>\n",
       "      <td>180</td>\n",
       "    </tr>\n",
       "    <tr>\n",
       "      <th>43</th>\n",
       "      <td>17</td>\n",
       "      <td>203</td>\n",
       "      <td>13</td>\n",
       "      <td>91</td>\n",
       "      <td>16</td>\n",
       "      <td>39</td>\n",
       "      <td>0</td>\n",
       "      <td>126</td>\n",
       "      <td>0</td>\n",
       "      <td>10</td>\n",
       "      <td>255</td>\n",
       "      <td>167</td>\n",
       "    </tr>\n",
       "    <tr>\n",
       "      <th>44</th>\n",
       "      <td>13</td>\n",
       "      <td>202</td>\n",
       "      <td>22</td>\n",
       "      <td>83</td>\n",
       "      <td>6</td>\n",
       "      <td>31</td>\n",
       "      <td>0</td>\n",
       "      <td>155</td>\n",
       "      <td>0</td>\n",
       "      <td>46</td>\n",
       "      <td>255</td>\n",
       "      <td>152</td>\n",
       "    </tr>\n",
       "    <tr>\n",
       "      <th>45</th>\n",
       "      <td>10</td>\n",
       "      <td>255</td>\n",
       "      <td>25</td>\n",
       "      <td>72</td>\n",
       "      <td>41</td>\n",
       "      <td>34</td>\n",
       "      <td>0</td>\n",
       "      <td>165</td>\n",
       "      <td>0</td>\n",
       "      <td>62</td>\n",
       "      <td>255</td>\n",
       "      <td>140</td>\n",
       "    </tr>\n",
       "    <tr>\n",
       "      <th>46</th>\n",
       "      <td>6</td>\n",
       "      <td>233</td>\n",
       "      <td>0</td>\n",
       "      <td>53</td>\n",
       "      <td>15</td>\n",
       "      <td>29</td>\n",
       "      <td>0</td>\n",
       "      <td>195</td>\n",
       "      <td>0</td>\n",
       "      <td>99</td>\n",
       "      <td>255</td>\n",
       "      <td>123</td>\n",
       "    </tr>\n",
       "    <tr>\n",
       "      <th>47</th>\n",
       "      <td>3</td>\n",
       "      <td>234</td>\n",
       "      <td>0</td>\n",
       "      <td>37</td>\n",
       "      <td>7</td>\n",
       "      <td>25</td>\n",
       "      <td>0</td>\n",
       "      <td>225</td>\n",
       "      <td>0</td>\n",
       "      <td>138</td>\n",
       "      <td>255</td>\n",
       "      <td>105</td>\n",
       "    </tr>\n",
       "    <tr>\n",
       "      <th>48</th>\n",
       "      <td>0</td>\n",
       "      <td>230</td>\n",
       "      <td>9</td>\n",
       "      <td>20</td>\n",
       "      <td>0</td>\n",
       "      <td>13</td>\n",
       "      <td>0</td>\n",
       "      <td>255</td>\n",
       "      <td>0</td>\n",
       "      <td>177</td>\n",
       "      <td>255</td>\n",
       "      <td>86</td>\n",
       "    </tr>\n",
       "    <tr>\n",
       "      <th>49</th>\n",
       "      <td>8</td>\n",
       "      <td>210</td>\n",
       "      <td>31</td>\n",
       "      <td>9</td>\n",
       "      <td>52</td>\n",
       "      <td>3</td>\n",
       "      <td>0</td>\n",
       "      <td>255</td>\n",
       "      <td>0</td>\n",
       "      <td>186</td>\n",
       "      <td>255</td>\n",
       "      <td>73</td>\n",
       "    </tr>\n",
       "  </tbody>\n",
       "</table>\n",
       "</div>"
      ],
      "text/plain": [
       "    DI+  DI-  MFI  MFI_EMA_9  RSI  RSI_EMA_9  EMA9_EMA50_dist_sign  \\\n",
       "0   163   15  227        252  190        244                   255   \n",
       "1   151    9  228        255  194        250                   255   \n",
       "2   138    5  228        255  197        254                   255   \n",
       "3   145    0  229        254  191        255                   255   \n",
       "4   132   27  213        250  180        252                   255   \n",
       "5   120   29  190        244  158        241                   255   \n",
       "6   108   34  169        240  155        235                   255   \n",
       "7   115   27  171        238  166        237                   255   \n",
       "8   118   21  176        234  170        235                   255   \n",
       "9   107   16  166        227  183        233                   255   \n",
       "10  125   10  164        219  203        231                   255   \n",
       "11  142    5  190        211  201        228                   255   \n",
       "12  129    5  192        202  197        226                   255   \n",
       "13  117   56  173        194  155        222                   255   \n",
       "14  106  102  157        189  109        221                   255   \n",
       "15   96  152  142        188   80        217                   255   \n",
       "16   86  137  133        185   97        211                   255   \n",
       "17  134  123  125        180  118        205                   255   \n",
       "18  172  110  166        180  156        198                   255   \n",
       "19  157   98  155        179  159        185                   255   \n",
       "20  143   91  149        172  162        171                   255   \n",
       "21  130   83  131        162  158        155                   255   \n",
       "22  118   88   91        152  148        149                   255   \n",
       "23  107   78   74        143  148        156                   255   \n",
       "24   98   68   64        136  153        173                   255   \n",
       "25   97   59   63        130  161        187                   255   \n",
       "26  119   51  101        128  175        199                   255   \n",
       "27  108   43  123        118  179        201                   255   \n",
       "28  103   36  137        110  184        203                   255   \n",
       "29   93   29  144        103  180        205                   255   \n",
       "30   84   82  130         97  124        202                   255   \n",
       "31   75   75  114        100  121        202                   255   \n",
       "32   67   66   95        105  135        203                   255   \n",
       "33   59   57  104        114  115        201                   255   \n",
       "34   52  223  103        124   46        190                   255   \n",
       "35   46  203  103        127   60        174                   255   \n",
       "36   40  204  113        126   35        153                     0   \n",
       "37   34  185  129        123   53        129                     0   \n",
       "38   29  169  110        116   44        102                     0   \n",
       "39   24  153  105        111   69         91                     0   \n",
       "40   31  138   80        108   72         79                     0   \n",
       "41   26  152   49        106   52         59                     0   \n",
       "42   21  207   17         99   28         41                     0   \n",
       "43   17  203   13         91   16         39                     0   \n",
       "44   13  202   22         83    6         31                     0   \n",
       "45   10  255   25         72   41         34                     0   \n",
       "46    6  233    0         53   15         29                     0   \n",
       "47    3  234    0         37    7         25                     0   \n",
       "48    0  230    9         20    0         13                     0   \n",
       "49    8  210   31          9   52          3                     0   \n",
       "\n",
       "    EMA9_EMA50_dist  EMA9_EMA200_dist_sign  EMA9_EMA200_dist  \\\n",
       "0               115                    255               205   \n",
       "1               124                    255               216   \n",
       "2               130                    255               227   \n",
       "3               133                    255               233   \n",
       "4               131                    255               234   \n",
       "5               123                    255               229   \n",
       "6               115                    255               223   \n",
       "7               111                    255               222   \n",
       "8               110                    255               223   \n",
       "9               112                    255               228   \n",
       "10              122                    255               240   \n",
       "11              128                    255               249   \n",
       "12              130                    255               255   \n",
       "13              122                    255               250   \n",
       "14              102                    255               231   \n",
       "15               74                    255               205   \n",
       "16               58                    255               188   \n",
       "17               51                    255               182   \n",
       "18               61                    255               193   \n",
       "19               69                    255               202   \n",
       "20               76                    255               211   \n",
       "21               80                    255               216   \n",
       "22               79                    255               216   \n",
       "23               78                    255               216   \n",
       "24               78                    255               217   \n",
       "25               80                    255               221   \n",
       "26               86                    255               228   \n",
       "27               91                    255               234   \n",
       "28               96                    255               240   \n",
       "29               98                    255               244   \n",
       "30               86                    255               234   \n",
       "31               76                    255               225   \n",
       "32               72                    255               221   \n",
       "33               63                    255               213   \n",
       "34               30                    255               180   \n",
       "35                8                    255               157   \n",
       "36               13                    255               125   \n",
       "37               32                    255               104   \n",
       "38               51                    255                82   \n",
       "39               58                    255                72   \n",
       "40               62                    255                64   \n",
       "41               74                    255                48   \n",
       "42               98                    255                19   \n",
       "43              126                      0                10   \n",
       "44              155                      0                46   \n",
       "45              165                      0                62   \n",
       "46              195                      0                99   \n",
       "47              225                      0               138   \n",
       "48              255                      0               177   \n",
       "49              255                      0               186   \n",
       "\n",
       "    EMA50_EMA200_dist_sign  EMA50_EMA200_dist  \n",
       "0                      255                162  \n",
       "1                      255                169  \n",
       "2                      255                177  \n",
       "3                      255                183  \n",
       "4                      255                188  \n",
       "5                      255                191  \n",
       "6                      255                194  \n",
       "7                      255                198  \n",
       "8                      255                201  \n",
       "9                      255                206  \n",
       "10                     255                213  \n",
       "11                     255                219  \n",
       "12                     255                225  \n",
       "13                     255                228  \n",
       "14                     255                227  \n",
       "15                     255                223  \n",
       "16                     255                220  \n",
       "17                     255                219  \n",
       "18                     255                223  \n",
       "19                     255                226  \n",
       "20                     255                230  \n",
       "21                     255                232  \n",
       "22                     255                234  \n",
       "23                     255                236  \n",
       "24                     255                238  \n",
       "25                     255                241  \n",
       "26                     255                244  \n",
       "27                     255                248  \n",
       "28                     255                252  \n",
       "29                     255                255  \n",
       "30                     255                255  \n",
       "31                     255                254  \n",
       "32                     255                255  \n",
       "33                     255                254  \n",
       "34                     255                246  \n",
       "35                     255                240  \n",
       "36                     255                230  \n",
       "37                     255                222  \n",
       "38                     255                214  \n",
       "39                     255                207  \n",
       "40                     255                201  \n",
       "41                     255                192  \n",
       "42                     255                180  \n",
       "43                     255                167  \n",
       "44                     255                152  \n",
       "45                     255                140  \n",
       "46                     255                123  \n",
       "47                     255                105  \n",
       "48                     255                 86  \n",
       "49                     255                 73  "
      ]
     },
     "execution_count": 6,
     "metadata": {},
     "output_type": "execute_result"
    }
   ],
   "source": [
    "hisse.head(50)\n"
   ]
  },
  {
   "cell_type": "markdown",
   "metadata": {},
   "source": [
    "# CNN time series classifier"
   ]
  },
  {
   "cell_type": "code",
   "execution_count": 3,
   "metadata": {},
   "outputs": [
    {
     "name": "stdout",
     "output_type": "stream",
     "text": [
      "tensorflow version: 1.14.0\n",
      "numpy version: 1.19.0\n"
     ]
    }
   ],
   "source": [
    "import os\n",
    "import numpy as np\n",
    "from PIL import Image\n",
    "import random\n",
    "import matplotlib.pyplot as plt\n",
    "%matplotlib inline\n",
    "import tensorflow as tf\n",
    "from tensorflow.keras.models import Sequential\n",
    "from tensorflow.keras.models import Sequential\n",
    "from tensorflow.keras.layers import Dense, Dropout, Flatten, Activation\n",
    "from tensorflow.keras.layers import Conv2D, MaxPooling2D\n",
    "from tensorflow.keras.layers import BatchNormalization\n",
    "from tensorflow.keras import optimizers\n",
    "\n",
    "from tensorflow.keras import backend as K\n",
    "import tensorflow as tf\n",
    "from tensorflow.keras.models import load_model\n",
    "print('tensorflow version: {}'.format(tf.__version__))\n",
    "print('numpy version: {}'.format(np.__version__))"
   ]
  },
  {
   "cell_type": "raw",
   "metadata": {
    "collapsed": true
   },
   "source": [
    "from tensorflow.keras.models import Sequential\n",
    "from tensorflow.keras.models import Sequential\n",
    "from tensorflow.keras.layers import Dense, Dropout, Flatten, Activation\n",
    "from tensorflow.keras.layers import Conv2D, MaxPooling2D\n",
    "from tensorflow.keras.layers import BatchNormalization\n",
    "from tensorflow.keras import backend as K"
   ]
  },
  {
   "cell_type": "code",
   "execution_count": 4,
   "metadata": {},
   "outputs": [
    {
     "name": "stdout",
     "output_type": "stream",
     "text": [
      "GPU device NOT found\n"
     ]
    }
   ],
   "source": [
    "#@title Check GPU\n",
    "\n",
    "import tensorflow as tf\n",
    "device_name = tf.test.gpu_device_name()\n",
    "if device_name != '/device:GPU:0':\n",
    "  print('GPU device NOT found')\n",
    "else:\n",
    "  print('Found GPU at: {}'.format(device_name))"
   ]
  },
  {
   "cell_type": "code",
   "execution_count": 10,
   "metadata": {
    "collapsed": true
   },
   "outputs": [],
   "source": [
    "from tensorflow.python.client import device_lib"
   ]
  },
  {
   "cell_type": "code",
   "execution_count": 11,
   "metadata": {
    "collapsed": true
   },
   "outputs": [],
   "source": [
    "def get_available_gpus():\n",
    "    local_device_protos = device_lib.list_local_devices()\n",
    "    return [x.name for x in local_device_protos if x.device_type == 'GPU']"
   ]
  },
  {
   "cell_type": "code",
   "execution_count": 15,
   "metadata": {},
   "outputs": [
    {
     "data": {
      "text/plain": [
       "False"
      ]
     },
     "execution_count": 15,
     "metadata": {},
     "output_type": "execute_result"
    }
   ],
   "source": [
    "device_lib.list_local_devices()\n",
    "tf.test.is_gpu_available()"
   ]
  },
  {
   "cell_type": "code",
   "execution_count": 16,
   "metadata": {},
   "outputs": [
    {
     "ename": "AttributeError",
     "evalue": "module 'tensorflow._api.v1.config' has no attribute 'list_physical_devices'",
     "output_type": "error",
     "traceback": [
      "\u001b[1;31m---------------------------------------------------------------------------\u001b[0m",
      "\u001b[1;31mAttributeError\u001b[0m                            Traceback (most recent call last)",
      "\u001b[1;32m<ipython-input-16-b3c3452a9f10>\u001b[0m in \u001b[0;36m<module>\u001b[1;34m()\u001b[0m\n\u001b[0;32m      1\u001b[0m \u001b[1;32mimport\u001b[0m \u001b[0mtensorflow\u001b[0m \u001b[1;32mas\u001b[0m \u001b[0mtf\u001b[0m\u001b[1;33m\u001b[0m\u001b[0m\n\u001b[1;32m----> 2\u001b[1;33m \u001b[0mprint\u001b[0m\u001b[1;33m(\u001b[0m\u001b[1;34m\"Num GPUs Available: \"\u001b[0m\u001b[1;33m,\u001b[0m \u001b[0mlen\u001b[0m\u001b[1;33m(\u001b[0m\u001b[0mtf\u001b[0m\u001b[1;33m.\u001b[0m\u001b[0mconfig\u001b[0m\u001b[1;33m.\u001b[0m\u001b[0mlist_physical_devices\u001b[0m\u001b[1;33m(\u001b[0m\u001b[1;34m'GPU'\u001b[0m\u001b[1;33m)\u001b[0m\u001b[1;33m)\u001b[0m\u001b[1;33m)\u001b[0m\u001b[1;33m\u001b[0m\u001b[0m\n\u001b[0m",
      "\u001b[1;32mC:\\Users\\LenovoE73\\Anaconda3\\lib\\site-packages\\tensorflow\\python\\util\\deprecation_wrapper.py\u001b[0m in \u001b[0;36m__getattr__\u001b[1;34m(self, name)\u001b[0m\n\u001b[0;32m    104\u001b[0m     \u001b[1;32mif\u001b[0m \u001b[0mname\u001b[0m\u001b[1;33m.\u001b[0m\u001b[0mstartswith\u001b[0m\u001b[1;33m(\u001b[0m\u001b[1;34m'_dw_'\u001b[0m\u001b[1;33m)\u001b[0m\u001b[1;33m:\u001b[0m\u001b[1;33m\u001b[0m\u001b[0m\n\u001b[0;32m    105\u001b[0m       \u001b[1;32mraise\u001b[0m \u001b[0mAttributeError\u001b[0m\u001b[1;33m(\u001b[0m\u001b[1;34m'Accessing local variables before they are created.'\u001b[0m\u001b[1;33m)\u001b[0m\u001b[1;33m\u001b[0m\u001b[0m\n\u001b[1;32m--> 106\u001b[1;33m     \u001b[0mattr\u001b[0m \u001b[1;33m=\u001b[0m \u001b[0mgetattr\u001b[0m\u001b[1;33m(\u001b[0m\u001b[0mself\u001b[0m\u001b[1;33m.\u001b[0m\u001b[0m_dw_wrapped_module\u001b[0m\u001b[1;33m,\u001b[0m \u001b[0mname\u001b[0m\u001b[1;33m)\u001b[0m\u001b[1;33m\u001b[0m\u001b[0m\n\u001b[0m\u001b[0;32m    107\u001b[0m     if (self._dw_warning_count < _PER_MODULE_WARNING_LIMIT and\n\u001b[0;32m    108\u001b[0m         name not in self._dw_deprecated_printed):\n",
      "\u001b[1;31mAttributeError\u001b[0m: module 'tensorflow._api.v1.config' has no attribute 'list_physical_devices'"
     ]
    }
   ],
   "source": [
    "import tensorflow as tf\n",
    "print(\"Num GPUs Available: \", len(tf.config.list_physical_devices('GPU')))"
   ]
  },
  {
   "cell_type": "code",
   "execution_count": 5,
   "metadata": {},
   "outputs": [
    {
     "data": {
      "text/plain": [
       "'\\nimport tensorflow as tf\\nimport tensorflow.keras\\nfrom tensorflow import keras\\nfrom tensorflow.keras import layers\\nfrom tensorflow.keras.models import Sequential, load_model\\n'"
      ]
     },
     "execution_count": 5,
     "metadata": {},
     "output_type": "execute_result"
    }
   ],
   "source": [
    "'''\n",
    "import tensorflow as tf\n",
    "import tensorflow.keras\n",
    "from tensorflow import keras\n",
    "from tensorflow.keras import layers\n",
    "from tensorflow.keras.models import Sequential, load_model\n",
    "'''"
   ]
  },
  {
   "cell_type": "code",
   "execution_count": 5,
   "metadata": {},
   "outputs": [
    {
     "data": {
      "text/plain": [
       "tensorflow.python.client.session.Session"
      ]
     },
     "execution_count": 5,
     "metadata": {},
     "output_type": "execute_result"
    }
   ],
   "source": [
    "tf.Session"
   ]
  },
  {
   "cell_type": "code",
   "execution_count": 7,
   "metadata": {
    "collapsed": true
   },
   "outputs": [],
   "source": [
    "def one_hot_labeling(class_name):\n",
    "    if class_name == \"Class_1\":\n",
    "        return(np.array([1,0,0,0]))\n",
    "    elif class_name == \"Class_2\":\n",
    "        return(np.array([0,1,0,0]))\n",
    "    elif class_name == \"Class_3\":\n",
    "        return(np.array([0,0,1,0]))\n",
    "    elif class_name == \"Class_4\":\n",
    "        return(np.array([0,0,0,1]))\n",
    " \n"
   ]
  },
  {
   "cell_type": "code",
   "execution_count": 8,
   "metadata": {
    "collapsed": true
   },
   "outputs": [],
   "source": [
    "def convert_labeling(class_name):\n",
    "    val= class_name == np.array([1,0,0,0])\n",
    "    if val.all():\n",
    "        return 0\n",
    "    val= class_name == np.array([0,1,0,0])\n",
    "    if val.all():\n",
    "        return 1\n",
    "    val= class_name == np.array([0,0,1,0])\n",
    "    if val.all():\n",
    "        return 2\n",
    "    val= class_name == np.array([0,0,0,1])\n",
    "    if val.all():\n",
    "        return 3\n",
    "    "
   ]
  },
  {
   "cell_type": "markdown",
   "metadata": {},
   "source": [
    "# optimized group"
   ]
  },
  {
   "cell_type": "code",
   "execution_count": 527,
   "metadata": {
    "collapsed": true
   },
   "outputs": [],
   "source": [
    "#base_list = ['EMA9_EMA50_dist_sign','EMA9_EMA50_dist','EMA9_EMA200_dist_sign','EMA9_EMA200_dist','EMA50_EMA200_dist_sign','EMA50_EMA200_dist']\n",
    "base_list = ['EMA9_EMA50_dist_sign','EMA9_EMA200_dist_sign','EMA50_EMA200_dist_sign']\n",
    "\n",
    "\n",
    "base_list_group = ['EMA9_EMA50_dist_sign','EMA9_EMA200_dist_sign','EMA50_EMA200_dist_sign','EMA9_EMA50_dist','EMA9_EMA200_dist','EMA50_EMA200_dist']\n",
    "\n",
    "feature_cnn_ta = ['RSI','MFI','WR','wma','EMA_9','sma',\n",
    "              'HMA','last_value','TEMA','CCI','CMO','MACD',\n",
    "              'MACD_signal','PPO','ROC_9','CMFI','diplus','diminus','psar']\n",
    "\n",
    "#Correlated_Feature_Removal\n",
    "\n",
    "feature_list=['DI+', 'DI-', 'MFI', 'MFI_EMA_9', 'MFI_MA_3', 'RSI', 'RSI_MA_14',\n",
    "       'RSI_EMA_9', 'WR', 'sma', 'deltawma', 'PPO_histo', 'PPO_signal', 'wma',\n",
    "       'CCI', 'CMO', 'MACD_signal', 'ROC_9', 'CMFI', \n",
    "       'EMA9_EMA100_dist_sign', 'EMA9_EMA200_dist_sign','EMA50_EMA200_dist_sign']\n",
    "\n",
    "'SMA','EMA','RSI','MFI','ROC_9','RSI_EMA_9','MACD_signal','DI+','DI-','CMFI','PPO_histo','PPO_signal','MACD','TEMA','PPO',\n",
    "'CMO','WMA ','HMA','CCI','WR','EMA9_EMA50_dist_sign','EMA9_EMA200_dist_sign','EMA50_EMA200_dist_sign',\n",
    "\n",
    "\n",
    "'''\n",
    "# başarı durumu  = \n",
    "Correlated_Feature_Removal\n",
    "#Mutual Information (Entropy) \n",
    "\n",
    "feature_list=['CMO', 'price_EMA200_dist_sign', 'EMA9_EMA100_dist_sign',\n",
    "       'EMA9_EMA200_dist_sign']\n",
    "\n",
    "'''\n",
    "'''\n",
    "# başarı durumu  = \n",
    "\n",
    "# CART model\n",
    "feature_list=['CMO', 'MACD', 'ROC_9', 'CMFI', 'diplus', 'diminus', 'price_EMA50_dist',\n",
    "       'price_EMA200_dist_sign', 'EMA9_EMA50_dist', 'EMA9_EMA100_dist',\n",
    "       'EMA9_EMA200_dist', 'EMA9_EMA50_dist_sign', 'EMA9_EMA100_dist_sign',\n",
    "       'EMA9_EMA200_dist_sign', 'EMA50_EMA200_dist']\n",
    "'''\n",
    "'''\n",
    "feature_list=['CMO', 'MACD', 'ROC_9', 'CMFI', 'diplus', 'diminus', 'price_EMA50_dist',\n",
    "       'price_EMA200_dist_sign', 'EMA9_EMA50_dist', 'EMA9_EMA100_dist',\n",
    "       'EMA9_EMA200_dist', 'EMA9_EMA50_dist_sign', 'EMA9_EMA100_dist_sign',\n",
    "       'EMA9_EMA200_dist_sign', 'EMA50_EMA200_dist']\n",
    "'''\n",
    "\n",
    "\n",
    "feature_not_selection_order = ['DI+', 'DI-', 'MFI', 'MFI_EMA_9', 'MFI_MA_3', 'RSI',\n",
    "       'RSI_MA_3', 'RSI_MA_14', 'RSI_EMA_9', 'WR', 'sma', 'deltawma', 'HMA',\n",
    "       'PPO_histo', 'PPO', 'PPO_signal', 'wma', 'TEMA', 'CCI', 'CMO', 'MACD',\n",
    "       'MACD_signal', 'ROC_9', 'CMFI', 'diplus', 'diminus', 'EMA9_EMA50_dist_sign',\n",
    "      'EMA9_EMA200_dist_sign', 'EMA50_EMA200_dist_sign']\n",
    "\n",
    "\n",
    "feature_not_selection_not_order = [ 'EMA9_EMA50_dist_sign','MACD','diminus', 'MFI', 'MFI_EMA_9','PPO', 'HMA', \n",
    "        'PPO_histo','CCI','RSI_MA_3', 'DI-',  'EMA9_EMA200_dist_sign', 'sma', 'deltawma', 'RSI_EMA_9',\n",
    "      'MFI_MA_3','DI+', 'PPO_signal', 'wma',   'CMO', \n",
    "       'MACD_signal', 'RSI_MA_14','ROC_9', 'WR','CMFI', 'diplus',  \n",
    "       'EMA50_EMA200_dist_sign','TEMA','RSI']\n",
    "\n",
    "\n",
    "\n",
    "\n",
    "feature_selection_not_order_novel=['MFI',  'SMA', 'CCI','deltawma', 'HMA', 'PPO_signal','RSI','EMA50_EMA200_dist_sign',\n",
    "                'WMA',  'MACD_signal', 'CMO','EMA9_EMA200_dist_sign',\n",
    "                'MACD', 'CMFI','EMA9_EMA50_dist_sign']\n",
    "\n",
    "feature_selection_order_novel=['MACD', 'MACD_signal','PPO_signal',\n",
    "               'deltawma','wma','sma','HMA','MFI', \n",
    "               'RSI', 'CCI','CMFI','CMO','EMA50_EMA200_dist_sign',\n",
    "               'EMA9_EMA200_dist_sign','EMA9_EMA50_dist_sign']\n",
    "\n",
    "\n",
    "feature_selection_order_not_novel=['MACD', 'MACD_signal','PPO_signal',\n",
    "               'deltawma','wma','sma','HMA','MFI', \n",
    "               'RSI', 'CCI','CMFI','CMO']\n",
    "\n",
    "\n",
    "\n",
    "optimize_full=['DI+', 'DI-', 'MFI', 'MFI_EMA_9', 'MFI_MA_3', 'RSI', 'RSI_MA_3',\n",
    "       'RSI_MA_14', 'RSI_EMA_9', 'WR', 'sma', 'HMA', 'PPO_histo', 'PPO',\n",
    "       'PPO_signal', 'wma', 'TEMA', 'CCI', 'CMO', 'MACD', 'MACD_signal',\n",
    "       'ROC_9', 'CMFI', 'diplus', 'diminus']\n",
    "\n",
    "\n",
    "optimize_1 = ['CMO']\n",
    "\n",
    "optimize_rfe_union_yedek = ['CMO', 'CMFI', 'MFI', 'RSI', 'RSI_MA_14','MFI_EMA_9', 'RSI_EMA_9','MFI_MA_3', 'WR',\n",
    "                      'PPO_histo', 'PPO', 'MACD', 'PPO_signal', 'MACD_signal','DI+','DI-' ,'CCI' ,'ROC_9']\n",
    "\n",
    "\n",
    "optimize_rfe_union_eski = ['DI+', 'DI-', 'MFI', 'MFI_EMA_9', 'MFI_MA_3', 'RSI', 'RSI_MA_14','RSI_EMA_9', 'WR', \n",
    "                           'PPO_histo', 'PPO', 'PPO_signal', 'CCI', 'CMO','MACD', 'MACD_signal', 'ROC_9', 'CMFI']\n",
    "\n",
    "\n",
    "optimize_rfe_union = ['DI+','DI-','MFI','MFI_EMA_9','MFI_MA_3','RSI','RSI_MA_14','RSI_EMA_9','WR','CCI','CMO',\n",
    "                      'PPO','MACD','PPO_signal','MACD_signal','PPO_histo','ROC_9','CMFI']\n",
    "\n",
    "\n",
    "\n",
    "\n",
    "optimize_rfe_sfs_intersection =  ['CCI', 'CMO', 'DI+', 'MACD', 'MACD_signal', 'MFI', 'PPO', 'PPO_histo', 'RSI_MA_14']\n",
    "\n",
    "optimize = feature_selection_not_order_novel\n",
    "\n",
    "feature_list =   optimize\n",
    "\n",
    "\n",
    "\n",
    "IMG_SIZE_Horizontal = len(feature_list)\n",
    "IMG_SIZE_Vertical = 75\n",
    "#path = os.chdir(path=r'C:\\\\Users\\\\LenovoE73\\\\Desktop\\\\data\\\\tez_datalar\\\\Full\\\\mix_150_test');\n",
    "path = os.chdir(path=r'C:\\\\Users\\\\LenovoE73\\\\Desktop\\\\data\\\\tez_datalar\\\\Full\\\\mix_150');\n",
    "path_train = os.chdir(path=r'C:\\\\Users\\\\LenovoE73\\\\Desktop\\\\data\\\\tez_datalar\\\\Full\\\\mix_150');\n",
    "path_test = os.chdir(path=r'C:\\\\Users\\\\LenovoE73\\\\Desktop\\\\data\\\\tez_datalar\\\\Full\\\\mix_150');\n",
    "\n",
    "\n"
   ]
  },
  {
   "cell_type": "code",
   "execution_count": 528,
   "metadata": {},
   "outputs": [
    {
     "name": "stdout",
     "output_type": "stream",
     "text": [
      "['EMA9_EMA50_dist_sign', 'EMA9_EMA200_dist_sign', 'EMA50_EMA200_dist_sign']\n",
      "['MFI', 'sma', 'CCI', 'deltawma', 'HMA', 'PPO_signal', 'RSI', 'EMA50_EMA200_dist_sign', 'wma', 'MACD_signal', 'CMO', 'EMA9_EMA200_dist_sign', 'MACD', 'CMFI', 'EMA9_EMA50_dist_sign']\n"
     ]
    }
   ],
   "source": [
    "print(base_list)\n",
    "print(optimize)"
   ]
  },
  {
   "cell_type": "code",
   "execution_count": 529,
   "metadata": {},
   "outputs": [
    {
     "data": {
      "text/plain": [
       "15"
      ]
     },
     "execution_count": 529,
     "metadata": {},
     "output_type": "execute_result"
    }
   ],
   "source": [
    "len(optimize)"
   ]
  },
  {
   "cell_type": "code",
   "execution_count": 530,
   "metadata": {},
   "outputs": [
    {
     "data": {
      "text/plain": [
       "15"
      ]
     },
     "execution_count": 530,
     "metadata": {},
     "output_type": "execute_result"
    }
   ],
   "source": [
    "len(feature_list)"
   ]
  },
  {
   "cell_type": "code",
   "execution_count": 531,
   "metadata": {
    "scrolled": true
   },
   "outputs": [
    {
     "data": {
      "text/plain": [
       "['MFI',\n",
       " 'sma',\n",
       " 'CCI',\n",
       " 'deltawma',\n",
       " 'HMA',\n",
       " 'PPO_signal',\n",
       " 'RSI',\n",
       " 'EMA50_EMA200_dist_sign',\n",
       " 'wma',\n",
       " 'MACD_signal',\n",
       " 'CMO',\n",
       " 'EMA9_EMA200_dist_sign',\n",
       " 'MACD',\n",
       " 'CMFI',\n",
       " 'EMA9_EMA50_dist_sign']"
      ]
     },
     "execution_count": 531,
     "metadata": {},
     "output_type": "execute_result"
    }
   ],
   "source": [
    "feature_list"
   ]
  },
  {
   "cell_type": "markdown",
   "metadata": {},
   "source": [
    "# Normal Group "
   ]
  },
  {
   "cell_type": "code",
   "execution_count": 18,
   "metadata": {
    "collapsed": true
   },
   "outputs": [],
   "source": [
    "IMG_SIZE_Horizontal = 12\n",
    "IMG_SIZE_Vertical = 75\n",
    "feature_list=['DI+','DI-','MFI','MFI_EMA_9','RSI','RSI_EMA_9','EMA9_EMA50_dist_sign','EMA9_EMA50_dist','EMA9_EMA200_dist_sign','EMA9_EMA200_dist','EMA50_EMA200_dist_sign','EMA50_EMA200_dist']\n",
    "#feature_list=['EMA9_EMA50_dist_sign','EMA9_EMA50_dist','EMA9_EMA200_dist_sign','EMA9_EMA200_dist','EMA50_EMA200_dist_sign','EMA50_EMA200_dist']\n",
    "path_old = os.chdir(path=r'C:\\\\Users\\\\LenovoE73\\\\Desktop\\\\data\\\\tez_datalar\\\\convolutional_matrix\\\\data_set_standart_previous\\\\100_pre_process_image');\n",
    "#path = os.chdir(path=r'C:\\\\Users\\\\LenovoE73\\\\Desktop\\\\data\\\\tez_datalar\\\\convolutional_matrix\\\\mix_75_4_Class');\n",
    "path = os.chdir(path=r'C:\\\\Users\\\\LenovoE73\\\\Desktop\\\\data\\\\tez_datalar\\\\Full\\\\mix_150');"
   ]
  },
  {
   "cell_type": "code",
   "execution_count": 14,
   "metadata": {
    "collapsed": true
   },
   "outputs": [],
   "source": [
    "IMG_SIZE_Horizontal = 39\n",
    "IMG_SIZE_Vertical = 75\n",
    "feature_list=['DI+', 'DI-', 'MFI', 'MFI_EMA_9', 'MFI_MA_3', 'RSI', 'RSI_MA_3',\n",
    "       'RSI_MA_14', 'RSI_EMA_9', 'WR', 'sma', 'HMA', 'PPO_histo', 'PPO',\n",
    "       'PPO_signal', 'wma', 'TEMA', 'CCI', 'CMO', 'MACD', 'MACD_signal',\n",
    "       'ROC_9', 'CMFI', 'diplus', 'diminus', 'price_EMA50_dist',\n",
    "       'price_EMA100_dist', 'price_EMA200_dist', 'price_EMA50_dist_sign',\n",
    "       'price_EMA100_dist_sign', 'price_EMA200_dist_sign', 'EMA9_EMA50_dist',\n",
    "       'EMA9_EMA100_dist', 'EMA9_EMA200_dist', 'EMA9_EMA50_dist_sign',\n",
    "       'EMA9_EMA100_dist_sign', 'EMA9_EMA200_dist_sign', 'EMA50_EMA200_dist',\n",
    "       'EMA50_EMA200_dist_sign']\n",
    "path = os.chdir(path=r'C:\\\\Users\\\\LenovoE73\\\\Desktop\\\\data\\\\tez_datalar\\\\Full\\\\mix_150');"
   ]
  },
  {
   "cell_type": "code",
   "execution_count": 234,
   "metadata": {},
   "outputs": [
    {
     "data": {
      "text/plain": [
       "24"
      ]
     },
     "execution_count": 234,
     "metadata": {},
     "output_type": "execute_result"
    }
   ],
   "source": [
    "file = open(\"C:/Users/LenovoE73/Desktop/data/tez_datalar/hisseler_Kopya.txt\",\"r\",encoding=\"utf-8\") # Dosyayı okuma kipiyle açıyoruz. Türkçe karaktere dikkat.\n",
    "#dosyaya yazdırma işlemleri yapılıyor.     \n",
    "all_stocks = pd.DataFrame()   \n",
    "all_stocks.empty\n",
    "# True\n",
    "for stock_code in file: # Tıpkı listeler gibi dosyanın her bir satırı üzerinde geziniyoruz.\n",
    "    print(stock_code,end = \"\") # Her bir satırı ekrana basıyoruz. end parametresi \\\\n yerine boşluk alacak.\n",
    "    stock_code_adi = stock_code.strip() + post_fix\n",
    "    hisse_adi =stock_code.strip()\n",
    "    # illustrate excel files\n",
    "    os.chdir(path=r'C:\\\\Users\\\\LenovoE73\\\\Desktop\\\\data\\\\tez_datalar\\\\hisse_datalar_xls_yeni')\n",
    "    # Load spreadsheet\n",
    "    xl = pd.ExcelFile(stock_code_adi)\n",
    "    # Print the sheet names\n",
    "    # Load a sheet into a DataFrame by name: df1\n",
    "    hisseler = xl.parse(hisse_adi)\n",
    "    hisseler[\"stock_code\"]=stock_code\n",
    "    \n",
    "    \n",
    "    \n",
    "#result = pd.concat(all_stocks)\n",
    "#df = pd.DataFrame (result[1])"
   ]
  },
  {
   "cell_type": "code",
   "execution_count": 24,
   "metadata": {
    "collapsed": true
   },
   "outputs": [],
   "source": [
    "def read_dataset_random(path,come_back):\n",
    "    images = os.listdir(path)\n",
    "    print(len(images))\n",
    "    dataset = []\n",
    "    i=0\n",
    "    class_sent = \"\"\n",
    "    for image in images:\n",
    "        if image.find(\"class1\")>-1:\n",
    "            class_sent = \"Class_1\"\n",
    "        elif image.find(\"class2\")>-1:\n",
    "            class_sent = \"Class_2\"\n",
    "        elif image.find(\"class3\")>-1:\n",
    "            class_sent = \"Class_3\" \n",
    "        elif image.find(\"class4\")>-1:\n",
    "            class_sent = \"Class_4\" \n",
    "        back = come_back\n",
    "        xl = pd.ExcelFile()\n",
    "        # Load a sheet into a DataFrame by name: df1\n",
    "        hisse_image = xl.parse(image)\n",
    "        lenght = len(hisse_image)\n",
    "        hisse_image = hisse_image[lenght-come_back:lenght]\n",
    "        hisse_image = hisse_image[feature_list].to_numpy()\n",
    "        #PIL_image = Image.fromarray(np.uint8(hisse_image))\n",
    "        #PIL_image = PIL_image.convert('L')\n",
    "        #PIL_image = PIL_image.resize((IMG_SIZE_Horizontal, IMG_SIZE_Vertical), Image.ANTIALIAS)\n",
    "        \n",
    "        dataset.append([np.array(hisse_image),one_hot_labeling(class_sent)])\n",
    "        i= i+1\n",
    "        if i % 50 == 0: \n",
    "            print(str(i) + \".işlem \")\n",
    "    random.shuffle(dataset)\n",
    "    return dataset"
   ]
  },
  {
   "cell_type": "code",
   "execution_count": 25,
   "metadata": {
    "collapsed": true
   },
   "outputs": [],
   "source": [
    "def read_dataset_sequential(path,come_back):\n",
    "    images = os.listdir(path)\n",
    "    print(len(images))\n",
    "    dataset = []\n",
    "    i=0\n",
    "    class_sent = \"\"\n",
    "    for image in images:\n",
    "        if image.find(\"class1\")>-1:\n",
    "            class_sent = \"Class_1\"\n",
    "        elif image.find(\"class2\")>-1:\n",
    "            class_sent = \"Class_2\"\n",
    "        elif image.find(\"class3\")>-1:\n",
    "            class_sent = \"Class_3\" \n",
    "        elif image.find(\"class4\")>-1:\n",
    "            class_sent = \"Class_4\" \n",
    "        back = come_back\n",
    "        xl = pd.ExcelFile(image)\n",
    "        # Load a sheet into a DataFrame by name: df1\n",
    "        hisse_image = xl.parse(image)\n",
    "        lenght = len(hisse_image)\n",
    "        hisse_image = hisse_image[lenght-come_back:lenght]\n",
    "        hisse_image = hisse_image[feature_list].to_numpy()\n",
    "        #PIL_image = Image.fromarray(np.uint8(hisse_image))\n",
    "        #PIL_image = PIL_image.convert('L')\n",
    "        #PIL_image = PIL_image.resize((IMG_SIZE_Horizontal, IMG_SIZE_Vertical), Image.ANTIALIAS)\n",
    "        \n",
    "        dataset.append([np.array(hisse_image),one_hot_labeling(class_sent)])\n",
    "        i= i+1\n",
    "        if i % 50 == 0: \n",
    "            print(str(i) + \".işlem \")\n",
    "    return dataset"
   ]
  },
  {
   "cell_type": "code",
   "execution_count": 250,
   "metadata": {
    "collapsed": true
   },
   "outputs": [],
   "source": [
    "images = os.listdir(path)"
   ]
  },
  {
   "cell_type": "code",
   "execution_count": 251,
   "metadata": {},
   "outputs": [
    {
     "data": {
      "text/plain": [
       "'ADEL10_Kayip_class4.xlsx'"
      ]
     },
     "execution_count": 251,
     "metadata": {},
     "output_type": "execute_result"
    }
   ],
   "source": [
    "images[1]\n"
   ]
  },
  {
   "cell_type": "code",
   "execution_count": 253,
   "metadata": {
    "scrolled": true
   },
   "outputs": [
    {
     "data": {
      "text/plain": [
       "Index(['Unnamed: 0', 'DI+', 'DI-', 'MFI', 'MFI_EMA_9', 'MFI_MA_3', 'RSI',\n",
       "       'RSI_MA_3', 'RSI_MA_14', 'RSI_EMA_9', 'WR', 'sma', 'deltawma', 'HMA',\n",
       "       'PPO_histo', 'PPO', 'PPO_signal', 'wma', 'TEMA', 'CCI', 'CMO', 'MACD',\n",
       "       'MACD_signal', 'ROC_9', 'CMFI', 'diplus', 'diminus', 'price_EMA50_dist',\n",
       "       'price_EMA100_dist', 'price_EMA200_dist', 'price_EMA50_dist_sign',\n",
       "       'price_EMA100_dist_sign', 'price_EMA200_dist_sign', 'EMA9_EMA50_dist',\n",
       "       'EMA9_EMA100_dist', 'EMA9_EMA200_dist', 'EMA9_EMA50_dist_sign',\n",
       "       'EMA9_EMA100_dist_sign', 'EMA9_EMA200_dist_sign', 'EMA50_EMA200_dist',\n",
       "       'EMA50_EMA200_dist_sign'],\n",
       "      dtype='object')"
      ]
     },
     "execution_count": 253,
     "metadata": {},
     "output_type": "execute_result"
    }
   ],
   "source": [
    "come_back = 20\n",
    "xl = pd.ExcelFile(images[1])\n",
    "# Load a sheet into a DataFrame by name: df1\n",
    "hisse_image = xl.parse(images[1])\n",
    "lenght = len(hisse_image)\n",
    "hisse_image = hisse_image[lenght-come_back:lenght]\n",
    "hisse_image.columns"
   ]
  },
  {
   "cell_type": "code",
   "execution_count": null,
   "metadata": {
    "scrolled": true
   },
   "outputs": [
    {
     "name": "stdout",
     "output_type": "stream",
     "text": [
      "6422\n",
      "50.işlem \n",
      "100.işlem \n",
      "150.işlem \n",
      "200.işlem \n",
      "250.işlem \n",
      "300.işlem \n",
      "350.işlem \n",
      "400.işlem \n",
      "450.işlem \n",
      "500.işlem \n",
      "550.işlem \n",
      "600.işlem \n",
      "650.işlem \n",
      "700.işlem \n",
      "750.işlem \n",
      "800.işlem \n",
      "850.işlem \n",
      "900.işlem \n",
      "950.işlem \n",
      "1000.işlem \n",
      "1050.işlem \n",
      "1100.işlem \n",
      "1150.işlem \n",
      "1200.işlem \n",
      "1250.işlem \n",
      "1300.işlem \n",
      "1350.işlem \n",
      "1400.işlem \n",
      "1450.işlem \n",
      "1500.işlem \n",
      "1550.işlem \n",
      "1600.işlem \n",
      "1650.işlem \n",
      "1700.işlem \n",
      "1750.işlem \n",
      "1800.işlem \n",
      "1850.işlem \n",
      "1900.işlem \n",
      "1950.işlem \n",
      "2000.işlem \n",
      "2050.işlem \n",
      "2100.işlem \n",
      "2150.işlem \n",
      "2200.işlem \n",
      "2250.işlem \n",
      "2300.işlem \n",
      "2350.işlem \n",
      "2400.işlem \n",
      "2450.işlem \n",
      "2500.işlem \n",
      "2550.işlem \n",
      "2600.işlem \n",
      "2650.işlem \n",
      "2700.işlem \n",
      "2750.işlem \n",
      "2800.işlem \n",
      "2850.işlem \n",
      "2900.işlem \n",
      "2950.işlem \n",
      "3000.işlem \n",
      "3050.işlem \n",
      "3100.işlem \n",
      "3150.işlem \n",
      "3200.işlem \n",
      "3250.işlem \n",
      "3300.işlem \n",
      "3350.işlem \n",
      "3400.işlem \n",
      "3450.işlem \n",
      "3500.işlem \n",
      "3550.işlem \n",
      "3600.işlem \n",
      "3650.işlem \n",
      "3700.işlem \n",
      "3750.işlem \n",
      "3800.işlem \n",
      "3850.işlem \n",
      "3900.işlem \n",
      "3950.işlem \n",
      "4000.işlem \n",
      "4050.işlem \n",
      "4100.işlem \n",
      "4150.işlem \n",
      "4200.işlem \n",
      "4250.işlem \n",
      "4300.işlem \n",
      "4350.işlem \n",
      "4400.işlem \n",
      "4450.işlem \n",
      "4500.işlem \n",
      "4550.işlem \n",
      "4600.işlem \n",
      "4650.işlem \n",
      "4700.işlem \n",
      "4750.işlem \n",
      "4800.işlem \n",
      "4850.işlem \n",
      "4900.işlem \n",
      "4950.işlem \n",
      "5000.işlem \n",
      "5050.işlem \n",
      "5100.işlem \n",
      "5150.işlem \n",
      "5200.işlem \n",
      "5250.işlem \n",
      "5300.işlem \n",
      "5350.işlem \n",
      "5400.işlem \n",
      "5450.işlem \n",
      "5500.işlem \n",
      "5550.işlem \n",
      "5600.işlem \n",
      "5650.işlem \n",
      "5700.işlem \n",
      "5750.işlem \n",
      "5800.işlem \n",
      "5850.işlem \n",
      "5900.işlem \n",
      "5950.işlem \n",
      "6000.işlem \n",
      "6050.işlem \n",
      "6100.işlem \n",
      "6150.işlem \n",
      "6200.işlem \n",
      "6250.işlem \n",
      "6300.işlem \n",
      "6350.işlem \n",
      "6400.işlem \n"
     ]
    }
   ],
   "source": [
    "dataset_random_50 = read_dataset_random(path,50)"
   ]
  },
  {
   "cell_type": "code",
   "execution_count": null,
   "metadata": {},
   "outputs": [
    {
     "name": "stdout",
     "output_type": "stream",
     "text": [
      "6422\n",
      "50.işlem \n",
      "100.işlem \n",
      "150.işlem \n",
      "200.işlem \n",
      "250.işlem \n",
      "300.işlem \n",
      "350.işlem \n",
      "400.işlem \n",
      "450.işlem \n",
      "500.işlem \n",
      "550.işlem \n",
      "600.işlem \n",
      "650.işlem \n",
      "700.işlem \n",
      "750.işlem \n",
      "800.işlem \n",
      "850.işlem \n",
      "900.işlem \n",
      "950.işlem \n",
      "1000.işlem \n",
      "1050.işlem \n",
      "1100.işlem \n",
      "1150.işlem \n",
      "1200.işlem \n",
      "1250.işlem \n",
      "1300.işlem \n",
      "1350.işlem \n",
      "1400.işlem \n",
      "1450.işlem \n",
      "1500.işlem \n",
      "1550.işlem \n",
      "1600.işlem \n",
      "1650.işlem \n",
      "1700.işlem \n",
      "1750.işlem \n",
      "1800.işlem \n",
      "1850.işlem \n",
      "1900.işlem \n",
      "1950.işlem \n",
      "2000.işlem \n",
      "2050.işlem \n",
      "2100.işlem \n",
      "2150.işlem \n",
      "2200.işlem \n",
      "2250.işlem \n",
      "2300.işlem \n",
      "2350.işlem \n",
      "2400.işlem \n",
      "2450.işlem \n",
      "2500.işlem \n",
      "2550.işlem \n",
      "2600.işlem \n",
      "2650.işlem \n",
      "2700.işlem \n",
      "2750.işlem \n",
      "2800.işlem \n",
      "2850.işlem \n",
      "2900.işlem \n",
      "2950.işlem \n",
      "3000.işlem \n",
      "3050.işlem \n",
      "3100.işlem \n",
      "3150.işlem \n",
      "3200.işlem \n",
      "3250.işlem \n",
      "3300.işlem \n",
      "3350.işlem \n",
      "3400.işlem \n",
      "3450.işlem \n",
      "3500.işlem \n",
      "3550.işlem \n",
      "3600.işlem \n",
      "3650.işlem \n"
     ]
    }
   ],
   "source": [
    "dataset_random_75 = read_dataset_random(path,75)"
   ]
  },
  {
   "cell_type": "code",
   "execution_count": null,
   "metadata": {
    "collapsed": true,
    "scrolled": true
   },
   "outputs": [],
   "source": [
    "dataset_random_100 = read_dataset_random(path,100)"
   ]
  },
  {
   "cell_type": "code",
   "execution_count": null,
   "metadata": {
    "collapsed": true,
    "scrolled": true
   },
   "outputs": [],
   "source": [
    "dataset_random_125 = read_dataset_random(path,125)"
   ]
  },
  {
   "cell_type": "code",
   "execution_count": 219,
   "metadata": {
    "scrolled": true
   },
   "outputs": [
    {
     "name": "stdout",
     "output_type": "stream",
     "text": [
      "6422\n",
      "50.işlem \n",
      "100.işlem \n",
      "150.işlem \n",
      "200.işlem \n",
      "250.işlem \n",
      "300.işlem \n",
      "350.işlem \n",
      "400.işlem \n",
      "450.işlem \n",
      "500.işlem \n",
      "550.işlem \n",
      "600.işlem \n",
      "650.işlem \n",
      "700.işlem \n",
      "750.işlem \n",
      "800.işlem \n",
      "850.işlem \n",
      "900.işlem \n",
      "950.işlem \n",
      "1000.işlem \n",
      "1050.işlem \n",
      "1100.işlem \n",
      "1150.işlem \n",
      "1200.işlem \n",
      "1250.işlem \n",
      "1300.işlem \n",
      "1350.işlem \n",
      "1400.işlem \n",
      "1450.işlem \n",
      "1500.işlem \n",
      "1550.işlem \n",
      "1600.işlem \n",
      "1650.işlem \n",
      "1700.işlem \n",
      "1750.işlem \n",
      "1800.işlem \n",
      "1850.işlem \n",
      "1900.işlem \n",
      "1950.işlem \n",
      "2000.işlem \n",
      "2050.işlem \n",
      "2100.işlem \n",
      "2150.işlem \n",
      "2200.işlem \n",
      "2250.işlem \n",
      "2300.işlem \n",
      "2350.işlem \n",
      "2400.işlem \n",
      "2450.işlem \n",
      "2500.işlem \n",
      "2550.işlem \n",
      "2600.işlem \n",
      "2650.işlem \n",
      "2700.işlem \n",
      "2750.işlem \n",
      "2800.işlem \n",
      "2850.işlem \n",
      "2900.işlem \n",
      "2950.işlem \n",
      "3000.işlem \n",
      "3050.işlem \n",
      "3100.işlem \n",
      "3150.işlem \n",
      "3200.işlem \n",
      "3250.işlem \n",
      "3300.işlem \n",
      "3350.işlem \n",
      "3400.işlem \n",
      "3450.işlem \n",
      "3500.işlem \n",
      "3550.işlem \n",
      "3600.işlem \n",
      "3650.işlem \n",
      "3700.işlem \n",
      "3750.işlem \n",
      "3800.işlem \n",
      "3850.işlem \n",
      "3900.işlem \n",
      "3950.işlem \n",
      "4000.işlem \n",
      "4050.işlem \n",
      "4100.işlem \n",
      "4150.işlem \n",
      "4200.işlem \n",
      "4250.işlem \n",
      "4300.işlem \n",
      "4350.işlem \n",
      "4400.işlem \n",
      "4450.işlem \n",
      "4500.işlem \n",
      "4550.işlem \n",
      "4600.işlem \n",
      "4650.işlem \n",
      "4700.işlem \n",
      "4750.işlem \n",
      "4800.işlem \n",
      "4850.işlem \n",
      "4900.işlem \n",
      "4950.işlem \n",
      "5000.işlem \n",
      "5050.işlem \n",
      "5100.işlem \n",
      "5150.işlem \n",
      "5200.işlem \n",
      "5250.işlem \n",
      "5300.işlem \n",
      "5350.işlem \n",
      "5400.işlem \n",
      "5450.işlem \n",
      "5500.işlem \n",
      "5550.işlem \n",
      "5600.işlem \n",
      "5650.işlem \n",
      "5700.işlem \n",
      "5750.işlem \n",
      "5800.işlem \n",
      "5850.işlem \n",
      "5900.işlem \n",
      "5950.işlem \n",
      "6000.işlem \n",
      "6050.işlem \n",
      "6100.işlem \n",
      "6150.işlem \n",
      "6200.işlem \n",
      "6250.işlem \n",
      "6300.işlem \n",
      "6350.işlem \n",
      "6400.işlem \n"
     ]
    }
   ],
   "source": [
    "dataset_sequential = read_dataset_sequential(path,100)"
   ]
  },
  {
   "cell_type": "code",
   "execution_count": null,
   "metadata": {
    "collapsed": true
   },
   "outputs": [],
   "source": [
    "# not_feature_selection_order"
   ]
  },
  {
   "cell_type": "code",
   "execution_count": 316,
   "metadata": {
    "collapsed": true
   },
   "outputs": [],
   "source": [
    "dataset_random_not_feature_selection_50_order   #tamam"
   ]
  },
  {
   "cell_type": "code",
   "execution_count": 310,
   "metadata": {
    "collapsed": true
   },
   "outputs": [],
   "source": [
    "dataset_random_not_feature_selection_75_order #tamam"
   ]
  },
  {
   "cell_type": "code",
   "execution_count": 312,
   "metadata": {
    "collapsed": true
   },
   "outputs": [],
   "source": [
    "dataset_random_not_feature_selection_100_order  #tamam"
   ]
  },
  {
   "cell_type": "code",
   "execution_count": null,
   "metadata": {
    "collapsed": true
   },
   "outputs": [],
   "source": [
    "dataset_random_not_feature_selection_125_order #tamam"
   ]
  },
  {
   "cell_type": "code",
   "execution_count": null,
   "metadata": {
    "collapsed": true
   },
   "outputs": [],
   "source": []
  },
  {
   "cell_type": "code",
   "execution_count": null,
   "metadata": {
    "collapsed": true
   },
   "outputs": [],
   "source": [
    "# not_feature_selection_not_order"
   ]
  },
  {
   "cell_type": "code",
   "execution_count": 409,
   "metadata": {
    "collapsed": true
   },
   "outputs": [],
   "source": [
    "dataset_random_not_feature_selection_50_not_order #tamam"
   ]
  },
  {
   "cell_type": "code",
   "execution_count": 410,
   "metadata": {
    "collapsed": true
   },
   "outputs": [],
   "source": [
    "dataset_random_not_feature_selection_75_not_order #tamam"
   ]
  },
  {
   "cell_type": "code",
   "execution_count": 411,
   "metadata": {
    "collapsed": true
   },
   "outputs": [],
   "source": [
    "dataset_random_not_feature_selection_100_not_order #tamam"
   ]
  },
  {
   "cell_type": "code",
   "execution_count": 412,
   "metadata": {
    "collapsed": true
   },
   "outputs": [],
   "source": [
    "dataset_random_not_feature_selection_125_not_order #tamam"
   ]
  },
  {
   "cell_type": "code",
   "execution_count": null,
   "metadata": {
    "collapsed": true
   },
   "outputs": [],
   "source": []
  },
  {
   "cell_type": "code",
   "execution_count": 511,
   "metadata": {
    "collapsed": true
   },
   "outputs": [],
   "source": [
    "#feature_selection_order"
   ]
  },
  {
   "cell_type": "code",
   "execution_count": 522,
   "metadata": {
    "collapsed": true
   },
   "outputs": [],
   "source": [
    "dataset_random_feature_selection_50_order #tamam"
   ]
  },
  {
   "cell_type": "code",
   "execution_count": 523,
   "metadata": {
    "collapsed": true
   },
   "outputs": [],
   "source": [
    "dataset_random_feature_selection_75_order #tamam"
   ]
  },
  {
   "cell_type": "code",
   "execution_count": 524,
   "metadata": {
    "collapsed": true
   },
   "outputs": [],
   "source": [
    "dataset_random_feature_selection_100_order #tamam"
   ]
  },
  {
   "cell_type": "code",
   "execution_count": 525,
   "metadata": {
    "collapsed": true
   },
   "outputs": [],
   "source": [
    "dataset_random_feature_selection_125_order #tamam"
   ]
  },
  {
   "cell_type": "code",
   "execution_count": null,
   "metadata": {
    "collapsed": true
   },
   "outputs": [],
   "source": []
  },
  {
   "cell_type": "code",
   "execution_count": null,
   "metadata": {
    "collapsed": true
   },
   "outputs": [],
   "source": [
    "#feature_selection_not_order"
   ]
  },
  {
   "cell_type": "code",
   "execution_count": null,
   "metadata": {
    "collapsed": true
   },
   "outputs": [],
   "source": [
    "dataset_random_feature_selection_50_not_order  = dataset_random_50"
   ]
  },
  {
   "cell_type": "code",
   "execution_count": null,
   "metadata": {
    "collapsed": true
   },
   "outputs": [],
   "source": [
    "dataset_random_feature_selection_75_not_order = dataset_random_75"
   ]
  },
  {
   "cell_type": "code",
   "execution_count": null,
   "metadata": {
    "collapsed": true
   },
   "outputs": [],
   "source": [
    "dataset_random_feature_selection_100_not_order = dataset_random_100"
   ]
  },
  {
   "cell_type": "code",
   "execution_count": null,
   "metadata": {
    "collapsed": true
   },
   "outputs": [],
   "source": [
    "dataset_random_feature_selection_125_not_order = dataset_random_125"
   ]
  },
  {
   "cell_type": "code",
   "execution_count": null,
   "metadata": {
    "collapsed": true
   },
   "outputs": [],
   "source": []
  },
  {
   "cell_type": "code",
   "execution_count": 28,
   "metadata": {
    "collapsed": true
   },
   "outputs": [],
   "source": [
    "dataset_random_feature_random "
   ]
  },
  {
   "cell_type": "code",
   "execution_count": 155,
   "metadata": {
    "collapsed": true
   },
   "outputs": [],
   "source": [
    "dataset_random_feature_order_random_75"
   ]
  },
  {
   "cell_type": "code",
   "execution_count": 157,
   "metadata": {
    "collapsed": true
   },
   "outputs": [],
   "source": [
    "dataset_random_feature_order_sequential_75 "
   ]
  },
  {
   "cell_type": "code",
   "execution_count": 174,
   "metadata": {
    "collapsed": true
   },
   "outputs": [],
   "source": [
    "dataset_random_feature_order_50 "
   ]
  },
  {
   "cell_type": "code",
   "execution_count": 181,
   "metadata": {
    "collapsed": true
   },
   "outputs": [],
   "source": [
    "dataset_random_feature_random_50  "
   ]
  },
  {
   "cell_type": "code",
   "execution_count": 194,
   "metadata": {
    "collapsed": true
   },
   "outputs": [],
   "source": [
    "dataset_random_feature_sequential_50 "
   ]
  },
  {
   "cell_type": "code",
   "execution_count": 207,
   "metadata": {
    "collapsed": true
   },
   "outputs": [],
   "source": [
    "dataset_random_feature_not_order_100 "
   ]
  },
  {
   "cell_type": "code",
   "execution_count": 222,
   "metadata": {
    "collapsed": true
   },
   "outputs": [],
   "source": [
    "dataset_random_feature_not_order_125 "
   ]
  },
  {
   "cell_type": "code",
   "execution_count": 239,
   "metadata": {
    "collapsed": true
   },
   "outputs": [],
   "source": [
    "dataset_random_feature_order_125  = dataset_random"
   ]
  },
  {
   "cell_type": "code",
   "execution_count": null,
   "metadata": {
    "collapsed": true
   },
   "outputs": [],
   "source": []
  },
  {
   "cell_type": "markdown",
   "metadata": {},
   "source": [
    "# Dataset set "
   ]
  },
  {
   "cell_type": "code",
   "execution_count": 494,
   "metadata": {
    "collapsed": true
   },
   "outputs": [],
   "source": [
    "dataset_random = dataset_random_not_feature_selection_100_not_order "
   ]
  },
  {
   "cell_type": "code",
   "execution_count": null,
   "metadata": {
    "collapsed": true
   },
   "outputs": [],
   "source": [
    "for i in range(0,len(dataset_sequential)):\n",
    "    print(\"sayac:\", i )\n",
    "    if len(dataset_sequential[i][0]) < 125:\n",
    "        print(\"burada hata var\")\n"
   ]
  },
  {
   "cell_type": "markdown",
   "metadata": {},
   "source": [
    "# Size of each picture"
   ]
  },
  {
   "cell_type": "code",
   "execution_count": 495,
   "metadata": {},
   "outputs": [
    {
     "name": "stdout",
     "output_type": "stream",
     "text": [
      "(100, 29)\n"
     ]
    }
   ],
   "source": [
    "#print(dataset_random_feature_random[0][0].shape)\n",
    "print(dataset_random[0][0].shape)"
   ]
  },
  {
   "cell_type": "code",
   "execution_count": null,
   "metadata": {
    "collapsed": true
   },
   "outputs": [],
   "source": []
  },
  {
   "cell_type": "markdown",
   "metadata": {},
   "source": [
    "# lenght = parametric -- random"
   ]
  },
  {
   "cell_type": "code",
   "execution_count": 496,
   "metadata": {},
   "outputs": [
    {
     "name": "stdout",
     "output_type": "stream",
     "text": [
      "5138\n",
      "1284\n",
      "6422\n"
     ]
    }
   ],
   "source": [
    "train_dataset = dataset_random[int(len(dataset_random)/5):]\n",
    "test_dataset = dataset_random[:int(len(dataset_random)/5)]\n",
    "\n",
    "print(len(train_dataset))\n",
    "print(len(test_dataset))\n",
    "print(len(test_dataset)+len(train_dataset))\n",
    "#plt.imshow(test_dataset[13][0], cmap = 'gist_gray')"
   ]
  },
  {
   "cell_type": "markdown",
   "metadata": {},
   "source": [
    "# lenght = parametric -- sequential"
   ]
  },
  {
   "cell_type": "code",
   "execution_count": 462,
   "metadata": {
    "scrolled": true
   },
   "outputs": [
    {
     "name": "stdout",
     "output_type": "stream",
     "text": [
      "5138\n",
      "1284\n",
      "6422\n"
     ]
    }
   ],
   "source": [
    "train_dataset = dataset_sequential[int(len(dataset_sequential)/5):]\n",
    "test_dataset = dataset_sequential[:int(len(dataset_sequential)/5)]\n",
    "\n",
    "print(len(train_dataset))\n",
    "print(len(test_dataset))\n",
    "print(len(test_dataset)+len(train_dataset))\n",
    "#plt.imshow(test_dataset[13][0], cmap = 'gist_gray')"
   ]
  },
  {
   "cell_type": "markdown",
   "metadata": {},
   "source": [
    "# set horizon and vertical values "
   ]
  },
  {
   "cell_type": "code",
   "execution_count": 497,
   "metadata": {
    "collapsed": true
   },
   "outputs": [],
   "source": [
    "IMG_SIZE_Vertical = int(train_dataset[0][0].size / len(train_dataset[0][0]))\n",
    "IMG_SIZE_Horizontal = len(train_dataset[0][0])"
   ]
  },
  {
   "cell_type": "code",
   "execution_count": 498,
   "metadata": {},
   "outputs": [
    {
     "name": "stdout",
     "output_type": "stream",
     "text": [
      "100\n",
      "29\n"
     ]
    }
   ],
   "source": [
    "print(IMG_SIZE_Horizontal)\n",
    "print(IMG_SIZE_Vertical)"
   ]
  },
  {
   "cell_type": "markdown",
   "metadata": {},
   "source": [
    "# Random or sequential ??"
   ]
  },
  {
   "cell_type": "code",
   "execution_count": 499,
   "metadata": {
    "collapsed": true
   },
   "outputs": [],
   "source": [
    "trainImages = np.array([i[0] for i in train_dataset]).reshape(-1,IMG_SIZE_Horizontal, IMG_SIZE_Vertical,1)\n",
    "trainLabels = np.array([i[1] for i in train_dataset])"
   ]
  },
  {
   "cell_type": "code",
   "execution_count": 500,
   "metadata": {
    "collapsed": true
   },
   "outputs": [],
   "source": [
    "testImages = np.array([i[0] for i in test_dataset]).reshape(-1, IMG_SIZE_Horizontal, IMG_SIZE_Vertical, 1)\n",
    "testLabels = np.array([i[1] for i in test_dataset])"
   ]
  },
  {
   "cell_type": "code",
   "execution_count": 501,
   "metadata": {
    "collapsed": true
   },
   "outputs": [],
   "source": [
    "opt = optimizers.Adam(learning_rate=0.001)"
   ]
  },
  {
   "cell_type": "code",
   "execution_count": 502,
   "metadata": {
    "collapsed": true
   },
   "outputs": [],
   "source": [
    "model = Sequential()\n",
    "model.add(Conv2D(32, kernel_size = (5, 5), activation='relu', input_shape=(IMG_SIZE_Horizontal, IMG_SIZE_Vertical, 1)))\n",
    "model.add(MaxPooling2D(pool_size=(2,2)))\n",
    "model.add(BatchNormalization())\n",
    "model.add(Conv2D(64, kernel_size=(3,3), activation='relu'))\n",
    "model.add(MaxPooling2D(pool_size=(2,2)))\n",
    "model.add(BatchNormalization())\n",
    "model.add(Dropout(0.3))\n",
    "model.add(Flatten())\n",
    "model.add(Dense(256, activation='relu'))\n",
    "model.add(Dropout(0.3))\n",
    "model.add(Dense(128, activation='relu'))\n",
    "model.add(Dropout(0.3))\n",
    "model.add(Dense(4, activation = 'softmax'))"
   ]
  },
  {
   "cell_type": "code",
   "execution_count": 503,
   "metadata": {
    "collapsed": true
   },
   "outputs": [],
   "source": [
    "model.compile(loss='binary_crossentropy', optimizer=\"adam\", metrics = ['accuracy'])"
   ]
  },
  {
   "cell_type": "code",
   "execution_count": 504,
   "metadata": {},
   "outputs": [
    {
     "name": "stdout",
     "output_type": "stream",
     "text": [
      "Epoch 1/6\n",
      "5138/5138 [==============================] - 24s 5ms/sample - loss: 0.6176 - acc: 0.7376\n",
      "Epoch 2/6\n",
      "5138/5138 [==============================] - 22s 4ms/sample - loss: 0.4810 - acc: 0.7806\n",
      "Epoch 3/6\n",
      "5138/5138 [==============================] - 22s 4ms/sample - loss: 0.4448 - acc: 0.7974\n",
      "Epoch 4/6\n",
      "5138/5138 [==============================] - 21s 4ms/sample - loss: 0.4099 - acc: 0.8132\n",
      "Epoch 5/6\n",
      "5138/5138 [==============================] - 22s 4ms/sample - loss: 0.3889 - acc: 0.8195\n",
      "Epoch 6/6\n",
      "5138/5138 [==============================] - 22s 4ms/sample - loss: 0.3622 - acc: 0.8345\n"
     ]
    },
    {
     "data": {
      "text/plain": [
       "<tensorflow.python.keras.callbacks.History at 0x20d52cf6828>"
      ]
     },
     "execution_count": 504,
     "metadata": {},
     "output_type": "execute_result"
    }
   ],
   "source": [
    "model.fit(trainImages,trainLabels, batch_size = 32, epochs = 6)"
   ]
  },
  {
   "cell_type": "code",
   "execution_count": 505,
   "metadata": {
    "scrolled": true
   },
   "outputs": [
    {
     "name": "stdout",
     "output_type": "stream",
     "text": [
      "1284/1284 [==============================] - 3s 2ms/sample - loss: 0.4277 - acc: 0.8033 5s - loss: 0\n",
      "Test accuracy: 0.8033489\n",
      "test_loss: 0.42773826675623006\n"
     ]
    }
   ],
   "source": [
    "test_loss, test_acc = model.evaluate(testImages, testLabels)\n",
    "\n",
    "print('Test accuracy:', test_acc)\n",
    "\n",
    "print('test_loss:', test_loss)\n",
    "\n",
    "\n"
   ]
  },
  {
   "cell_type": "code",
   "execution_count": 168,
   "metadata": {},
   "outputs": [
    {
     "data": {
      "text/plain": [
       "tensorflow.python.keras.engine.sequential.Sequential"
      ]
     },
     "execution_count": 168,
     "metadata": {},
     "output_type": "execute_result"
    }
   ],
   "source": [
    "type(model)"
   ]
  },
  {
   "cell_type": "code",
   "execution_count": 169,
   "metadata": {},
   "outputs": [
    {
     "data": {
      "text/plain": [
       "'C:\\\\Users\\\\LenovoE73\\\\Desktop\\\\data\\\\tez_datalar\\\\Full\\\\mix_150'"
      ]
     },
     "execution_count": 169,
     "metadata": {},
     "output_type": "execute_result"
    }
   ],
   "source": [
    "os.getcwd()"
   ]
  },
  {
   "cell_type": "markdown",
   "metadata": {},
   "source": [
    "# model save"
   ]
  },
  {
   "cell_type": "code",
   "execution_count": 76,
   "metadata": {
    "collapsed": true
   },
   "outputs": [],
   "source": [
    "os.chdir(path=r'C:\\\\Users\\\\LenovoE73\\\\Desktop\\\\data\\\\tez_datalar\\\\model');\n",
    "model.save('classifier_4829_75_18.h5')"
   ]
  },
  {
   "cell_type": "markdown",
   "metadata": {},
   "source": [
    "# model reload "
   ]
  },
  {
   "cell_type": "code",
   "execution_count": 195,
   "metadata": {
    "collapsed": true
   },
   "outputs": [],
   "source": [
    "os.chdir(path=r'C:\\\\Users\\\\LenovoE73\\\\Desktop\\\\data\\\\tez_datalar\\\\model');\n",
    "model = load_model('classifier_5740_75_24.h5')"
   ]
  },
  {
   "cell_type": "markdown",
   "metadata": {},
   "source": [
    "# model predict"
   ]
  },
  {
   "cell_type": "code",
   "execution_count": 125,
   "metadata": {
    "collapsed": true
   },
   "outputs": [],
   "source": [
    "img = np.array(testImages[1283]).reshape(-1,IMG_SIZE_Horizontal, IMG_SIZE_Vertical,1)"
   ]
  },
  {
   "cell_type": "code",
   "execution_count": 148,
   "metadata": {},
   "outputs": [
    {
     "data": {
      "text/plain": [
       "array([[0.26363733, 0.69169426, 0.02372175, 0.02094663]], dtype=float32)"
      ]
     },
     "execution_count": 148,
     "metadata": {},
     "output_type": "execute_result"
    }
   ],
   "source": [
    "model.predict(img)"
   ]
  },
  {
   "cell_type": "code",
   "execution_count": 214,
   "metadata": {},
   "outputs": [
    {
     "data": {
      "text/plain": [
       "numpy.ndarray"
      ]
     },
     "execution_count": 214,
     "metadata": {},
     "output_type": "execute_result"
    }
   ],
   "source": [
    "type(testImages[1283])"
   ]
  },
  {
   "cell_type": "code",
   "execution_count": 215,
   "metadata": {},
   "outputs": [
    {
     "data": {
      "text/plain": [
       "(1, 75, 24, 1)"
      ]
     },
     "execution_count": 215,
     "metadata": {},
     "output_type": "execute_result"
    }
   ],
   "source": [
    "img.shape"
   ]
  },
  {
   "cell_type": "markdown",
   "metadata": {},
   "source": [
    "# Auc--Roc"
   ]
  },
  {
   "cell_type": "code",
   "execution_count": 506,
   "metadata": {
    "collapsed": true
   },
   "outputs": [],
   "source": [
    "y_test = []\n",
    "for i in testLabels:\n",
    "    #print(i)\n",
    "    #print(type(i))\n",
    "    t = convert_labeling(i)\n",
    "    y_test.append(t)\n"
   ]
  },
  {
   "cell_type": "code",
   "execution_count": 507,
   "metadata": {
    "scrolled": true
   },
   "outputs": [
    {
     "data": {
      "text/plain": [
       "1284"
      ]
     },
     "execution_count": 507,
     "metadata": {},
     "output_type": "execute_result"
    }
   ],
   "source": [
    "len(y_test)"
   ]
  },
  {
   "cell_type": "code",
   "execution_count": 508,
   "metadata": {},
   "outputs": [
    {
     "data": {
      "text/plain": [
       "array([1., 2., 1., ..., 2., 0., 0.])"
      ]
     },
     "execution_count": 508,
     "metadata": {},
     "output_type": "execute_result"
    }
   ],
   "source": [
    "predicted_values1_CNN_DBEMA = model.predict_classes(x= testImages)\n",
    "\n",
    "### Converting predicted values into classes using new threshold\n",
    "threshold=0.3\n",
    "\n",
    "predicted_class1=np.zeros(predicted_values1_CNN_DBEMA.shape)\n",
    "predicted_class1[predicted_values1_CNN_DBEMA < 1+threshold ]=0\n",
    "predicted_class1[(1+threshold < predicted_values1_CNN_DBEMA ) &  ( predicted_values1_CNN_DBEMA <2+threshold) ]=1\n",
    "predicted_class1[(2+threshold < predicted_values1_CNN_DBEMA ) &  ( predicted_values1_CNN_DBEMA <3+threshold)  ] = 2\n",
    "predicted_class1[predicted_values1_CNN_DBEMA > 3+threshold ]=3\n",
    "predicted_class1"
   ]
  },
  {
   "cell_type": "code",
   "execution_count": 509,
   "metadata": {},
   "outputs": [
    {
     "data": {
      "text/plain": [
       "array([2, 3, 2, ..., 3, 0, 0], dtype=int64)"
      ]
     },
     "execution_count": 509,
     "metadata": {},
     "output_type": "execute_result"
    }
   ],
   "source": [
    "predicted_values1_CNN_DBEMA = model.predict_classes(x= testImages)\n",
    "predicted_values1_CNN_DBEMA"
   ]
  },
  {
   "cell_type": "code",
   "execution_count": 510,
   "metadata": {
    "scrolled": true
   },
   "outputs": [
    {
     "name": "stdout",
     "output_type": "stream",
     "text": [
      "              precision    recall  f1-score   support\n",
      "\n",
      "           0     0.6430    0.7758    0.7032       397\n",
      "           1     0.5450    0.4291    0.4802       254\n",
      "           2     0.5974    0.5704    0.5835       398\n",
      "           3     0.3644    0.3489    0.3565       235\n",
      "\n",
      "    accuracy                         0.5654      1284\n",
      "   macro avg     0.5375    0.5311    0.5309      1284\n",
      "weighted avg     0.5585    0.5654    0.5585      1284\n",
      "\n"
     ]
    }
   ],
   "source": [
    " print(classification_report(list(y_test), list(predicted_values1_CNN_DBEMA), digits=4))"
   ]
  },
  {
   "cell_type": "code",
   "execution_count": 182,
   "metadata": {},
   "outputs": [
    {
     "data": {
      "text/plain": [
       "array([[348,  21,  18,   0],\n",
       "       [184,  50,  17,   0],\n",
       "       [160,  25, 216,  19],\n",
       "       [129,  13,  78,   6]], dtype=int64)"
      ]
     },
     "execution_count": 182,
     "metadata": {},
     "output_type": "execute_result"
    }
   ],
   "source": [
    "confusion_matrix(list(y_test),list(predicted_values1_CNN_DBEMA))"
   ]
  },
  {
   "cell_type": "code",
   "execution_count": null,
   "metadata": {
    "collapsed": true
   },
   "outputs": [],
   "source": []
  },
  {
   "cell_type": "code",
   "execution_count": null,
   "metadata": {
    "collapsed": true
   },
   "outputs": [],
   "source": []
  },
  {
   "cell_type": "code",
   "execution_count": 57,
   "metadata": {
    "scrolled": true
   },
   "outputs": [
    {
     "data": {
      "text/plain": [
       "array([0., 1., 1., ..., 0., 0., 0.])"
      ]
     },
     "execution_count": 57,
     "metadata": {},
     "output_type": "execute_result"
    }
   ],
   "source": [
    "predicted_class1"
   ]
  },
  {
   "cell_type": "code",
   "execution_count": null,
   "metadata": {
    "collapsed": true
   },
   "outputs": [],
   "source": [
    "classifier_5740_75_24"
   ]
  },
  {
   "cell_type": "code",
   "execution_count": 131,
   "metadata": {
    "scrolled": false
   },
   "outputs": [
    {
     "data": {
      "text/plain": [
       "array([[343,  28,  45,   5],\n",
       "       [ 86,  81,  61,   8],\n",
       "       [ 88,  16, 276,  11],\n",
       "       [ 85,  16, 124,  11]], dtype=int64)"
      ]
     },
     "execution_count": 131,
     "metadata": {},
     "output_type": "execute_result"
    }
   ],
   "source": [
    "confusion_matrix(np.array(list(y_test)),list(predicted_values1_CNN_DBEMA))"
   ]
  },
  {
   "cell_type": "markdown",
   "metadata": {},
   "source": [
    "# with DBEMA"
   ]
  },
  {
   "cell_type": "code",
   "execution_count": 116,
   "metadata": {
    "collapsed": true
   },
   "outputs": [],
   "source": [
    "class_dict = {0: 'Earning Class',\n",
    "              1: 'Earning Trap Class',\n",
    "              2: 'Losing Class',\n",
    "              3: 'Losing Trap Class'}"
   ]
  },
  {
   "cell_type": "code",
   "execution_count": 117,
   "metadata": {
    "collapsed": true
   },
   "outputs": [],
   "source": [
    "cmat_1 = confusion_matrix(np.array(list(y_test)),list(predicted_values1_CNN_DBEMA))"
   ]
  },
  {
   "cell_type": "code",
   "execution_count": 118,
   "metadata": {},
   "outputs": [
    {
     "data": {
      "image/png": "[encoded data removed]",
      "text/plain": [
       "<Figure size 432x288 with 1 Axes>"
      ]
     },
     "metadata": {},
     "output_type": "display_data"
    }
   ],
   "source": [
    "fig, ax = plot_confusion_matrix(\n",
    "    conf_mat=cmat,\n",
    "    class_names=class_dict.values(),\n",
    ")"
   ]
  },
  {
   "cell_type": "code",
   "execution_count": 132,
   "metadata": {
    "scrolled": true
   },
   "outputs": [
    {
     "name": "stdout",
     "output_type": "stream",
     "text": [
      "              precision    recall  f1-score   support\n",
      "\n",
      "           0     0.5698    0.8147    0.6706       421\n",
      "           1     0.5745    0.3432    0.4297       236\n",
      "           2     0.5455    0.7059    0.6154       391\n",
      "           3     0.3143    0.0466    0.0812       236\n",
      "\n",
      "    accuracy                         0.5537      1284\n",
      "   macro avg     0.5010    0.4776    0.4492      1284\n",
      "weighted avg     0.5163    0.5537    0.5012      1284\n",
      "\n"
     ]
    }
   ],
   "source": [
    "print(classification_report(np.array(list(y_test)), list(predicted_values1_CNN_DBEMA), digits=4))"
   ]
  },
  {
   "cell_type": "markdown",
   "metadata": {},
   "source": [
    "# without DBEMA"
   ]
  },
  {
   "cell_type": "code",
   "execution_count": 192,
   "metadata": {
    "collapsed": true
   },
   "outputs": [],
   "source": [
    "cmat_2 = confusion_matrix(np.array(list(y_test)),list(predicted_values1_CNN_DBEMA))"
   ]
  },
  {
   "cell_type": "code",
   "execution_count": 194,
   "metadata": {},
   "outputs": [
    {
     "data": {
      "image/png": "[encoded data removed]",
      "text/plain": [
       "<Figure size 432x288 with 1 Axes>"
      ]
     },
     "metadata": {},
     "output_type": "display_data"
    }
   ],
   "source": [
    "fig, ax = plot_confusion_matrix(\n",
    "    conf_mat=cmat_2,\n",
    "    class_names=class_dict.values(),\n",
    ")"
   ]
  },
  {
   "cell_type": "code",
   "execution_count": 153,
   "metadata": {},
   "outputs": [
    {
     "name": "stdout",
     "output_type": "stream",
     "text": [
      "              precision    recall  f1-score   support\n",
      "\n",
      "           0     0.5209    0.7416    0.6119       387\n",
      "           1     0.4693    0.4440    0.4563       241\n",
      "           2     0.6294    0.5360    0.5789       431\n",
      "           3     0.3406    0.2089    0.2590       225\n",
      "\n",
      "    accuracy                         0.5234      1284\n",
      "   macro avg     0.4900    0.4826    0.4765      1284\n",
      "weighted avg     0.5160    0.5234    0.5098      1284\n",
      "\n"
     ]
    }
   ],
   "source": [
    "print(classification_report(np.array(list(y_test)), list(predicted_values1_CNN_DBEMA), digits=4))"
   ]
  },
  {
   "cell_type": "code",
   "execution_count": null,
   "metadata": {
    "collapsed": true
   },
   "outputs": [],
   "source": []
  },
  {
   "cell_type": "code",
   "execution_count": 154,
   "metadata": {
    "scrolled": true
   },
   "outputs": [
    {
     "name": "stdout",
     "output_type": "stream",
     "text": [
      "Accuracy:  0.7616822429906541\n",
      "Precision:  0.49004422301254363\n",
      "Sensitivity:  0.48260930889803505\n",
      "Specificity:  0.8360766776277387\n",
      "F1_Score:  0.48629834990266807\n"
     ]
    }
   ],
   "source": [
    "accuracy,Precision, Sensitivity, Specificity, f1_score = confusion_matrix_returns(list(y_test), list(predicted_values1_CNN_DBEMA))"
   ]
  },
  {
   "cell_type": "code",
   "execution_count": 620,
   "metadata": {
    "collapsed": true
   },
   "outputs": [],
   "source": [
    "predicted_values1_CNN_DBEMA = model.predict_classes(x= testImages)"
   ]
  },
  {
   "cell_type": "code",
   "execution_count": 621,
   "metadata": {},
   "outputs": [
    {
     "data": {
      "text/plain": [
       "array([2, 3, 0, ..., 2, 3, 2], dtype=int64)"
      ]
     },
     "execution_count": 621,
     "metadata": {},
     "output_type": "execute_result"
    }
   ],
   "source": [
    "predicted_values1_CNN_DBEMA"
   ]
  },
  {
   "cell_type": "code",
   "execution_count": 499,
   "metadata": {},
   "outputs": [
    {
     "name": "stdout",
     "output_type": "stream",
     "text": [
      "sensitivity_tam :  0.8437196996455341\n",
      "specificity_tam :  0.5014792007483226\n",
      "precision_tam :  0.8299158831556263\n",
      "accuracy_tam :  [0.00085077 0.00255231]\n",
      "---------------\n",
      "1284\n",
      "1284\n"
     ]
    },
    {
     "data": {
      "image/png": "[encoded data removed]",
      "text/plain": [
       "<Figure size 432x288 with 1 Axes>"
      ]
     },
     "metadata": {},
     "output_type": "display_data"
    },
    {
     "name": "stdout",
     "output_type": "stream",
     "text": [
      "---------------\n",
      "0.7183842588956091\n",
      "0.6128549323017408\n",
      "0.7056354210050122\n",
      "0.5349542551700667\n",
      "---------------\n"
     ]
    },
    {
     "data": {
      "image/png": "[encoded data removed]",
      "text/plain": [
       "<Figure size 432x288 with 1 Axes>"
      ]
     },
     "metadata": {},
     "output_type": "display_data"
    },
    {
     "name": "stdout",
     "output_type": "stream",
     "text": [
      "---------------\n",
      "CNN-DBEMA for One-vs-One ROC AUC scores:\n",
      "0.642957 (macro),\n",
      "0.659832 (weighted by prevalence)\n",
      "CNN-DBEMA for One-vs-Rest ROC AUC scores:\n",
      "0.642957 (macro),\n",
      "0.659832 (weighted by prevalence)\n"
     ]
    }
   ],
   "source": [
    "predicted_values1_CNN_DBEMA = model.predict_classes(x= testImages)\n",
    "\n",
    "### Converting predicted values into classes using new threshold\n",
    "threshold=0.3\n",
    "\n",
    "predicted_class1=np.zeros(predicted_values1_CNN_DBEMA.shape)\n",
    "predicted_class1[predicted_values1_CNN_DBEMA < 1+threshold ]=0\n",
    "predicted_class1[(1+threshold < predicted_values1_CNN_DBEMA ) &  ( predicted_values1_CNN_DBEMA <2+threshold) ]=1\n",
    "predicted_class1[(2+threshold < predicted_values1_CNN_DBEMA ) &  ( predicted_values1_CNN_DBEMA <3)  ] = 2\n",
    "predicted_class1[predicted_values1_CNN_DBEMA > 3 ]=3\n",
    "predicted_class1\n",
    "predicted_class1 = predicted_values1_CNN_DBEMA\n",
    "\n",
    "#Confusion matrix, Accuracy, sensitivity and specificity\n",
    "from sklearn.metrics import confusion_matrix\n",
    "\n",
    "cm_tam = multilabel_confusion_matrix(y_test , predicted_class1)\n",
    "\n",
    "n_classes = 4\n",
    "\n",
    "'''\n",
    "total=0\n",
    "sensitivity_tam = 0\n",
    "specificity_tam = 0\n",
    "'''\n",
    "\n",
    "total=0\n",
    "sensitivity_tam = 0\n",
    "specificity_tam = 0\n",
    "precision_tam = 0\n",
    "accuracy_tam = 0\n",
    "total1= 0\n",
    "\n",
    "\n",
    "for i in range(0,n_classes):\n",
    "    cm1 = cm_tam[i] \n",
    "    total = sum(cm1)\n",
    "    sensitivity = cm1[0,0]/(cm1[0,0]+cm1[1,0])\n",
    "    specificity = cm1[1,1]/(cm1[0,1]+cm1[1,1])\n",
    "    \n",
    "    ###################################\n",
    "    #specificity = cm1[1,1]/(cm1[1,0]+cm1[1,1])\n",
    "    precision = cm1[0,0]/(cm1[0,0]+cm1[0,1])\n",
    "    accuracy = cm1[0,0]/(cm1[0,0]+ cm1[1,1] )\n",
    "    \n",
    "    ###################################\n",
    "    \n",
    "    sensitivity_tam = sensitivity_tam + sensitivity\n",
    "    specificity_tam = specificity_tam + specificity\n",
    "    \n",
    "    ###################################\n",
    "    precision_tam = precision_tam + precision\n",
    "    accuracy_tam = accuracy_tam + accuracy\n",
    "    total1 =  total1 + total\n",
    "\n",
    "    \n",
    "    \n",
    "sensitivity_tam =  sensitivity_tam / n_classes\n",
    " \n",
    "specificity_tam =  specificity_tam / n_classes\n",
    "\n",
    "precision_tam = precision_tam / n_classes\n",
    "\n",
    "accuracy_tam = accuracy_tam / total1\n",
    "\n",
    "#f1_score_sonuc = f1_score(y_test,predicted_class1, average='macro')\n",
    "\n",
    "\n",
    "\n",
    "print('sensitivity_tam : ', sensitivity_tam )\n",
    "print('specificity_tam : ', specificity_tam )\n",
    "print('precision_tam : ', precision_tam )\n",
    "print('accuracy_tam : ', accuracy_tam )\n",
    "#print('f1_score_sonuc : ', f1_score_sonuc )\n",
    "\n",
    "\n",
    "\n",
    "######################  Burası kapatıldı\n",
    "\n",
    "'''\n",
    "for i in range(0,n_classes):\n",
    "    cm1 = cm_tam[i]    \n",
    "    sensitivity = cm1[0,0]/(cm1[0,0]+cm1[0,1])\n",
    "    specificity = cm1[1,1]/(cm1[1,0]+cm1[1,1])\n",
    "    sensitivity_tam = sensitivity_tam + sensitivity\n",
    "    specificity_tam = specificity_tam + specificity\n",
    "    \n",
    "    \n",
    "sensitivity_tam =  sensitivity_tam / n_classes\n",
    " \n",
    "specificity_tam =  specificity_tam / n_classes\n",
    "\n",
    "print('sensitivity_tam : ', sensitivity_tam )\n",
    "print('specificity_tam : ', specificity_tam )\n",
    "'''\n",
    "\n",
    "\n",
    "######################  Burası kapatıldı sonnnnn\n",
    "\n",
    "\n",
    "\n",
    "'''\n",
    "cm1 = confusion_matrix(y_test,predicted_values1_cart)\n",
    "print('Confusion Matrix : \\n', cm1)\n",
    "\n",
    "total1=sum(sum(cm1))\n",
    "\n",
    "#####from confusion matrix calculate accuracy\n",
    "accuracy1=(cm1[0,0]+cm1[1,1])/total1\n",
    "print ('Accuracy : ', accuracy1)\n",
    "\n",
    "sensitivity1 = cm1[0,0]/(cm1[0,0]+cm1[0,1])\n",
    "print('Sensitivity : ', sensitivity1 )\n",
    "\n",
    "specificity1 = cm1[1,1]/(cm1[1,0]+cm1[1,1])\n",
    "print('Specificity : ', specificity1)\n",
    "\n",
    "\n",
    "print('total1 : ', total1)\n",
    "print('TP : ', cm1[0,0])\n",
    "print('FP : ', cm1[0,1])\n",
    "print('FN : ', cm1[1,0])\n",
    "print('TN : ', cm1[1,1])\n",
    "'''\n",
    "\n",
    "#*******************************************************\n",
    "\n",
    "print(\"---------------\")\n",
    "\n",
    "y_pred_varibale = predicted_class1\n",
    "y_pred_varibale = np.array(y_pred_varibale)\n",
    "#y_test_variable = y_pred.to_numpy()\n",
    "y_test_variable = np.array(y_test)\n",
    "print(y_test_variable.size)\n",
    "print(y_pred_varibale.size)\n",
    "y_binarize_test = label_binarize(y_test_variable, classes=[0, 1, 2, 3]) \n",
    "y_binarize_pred = label_binarize(y_pred_varibale, classes=[0, 1, 2, 3]) \n",
    "\n",
    "\n",
    "# Compute ROC curve and ROC area for each class\n",
    "fpr = dict()\n",
    "tpr = dict()\n",
    "roc_auc = dict()\n",
    "for i in range(n_classes):\n",
    "    fpr[i], tpr[i], _ = roc_curve(y_binarize_test[:, i], y_binarize_pred[:, i])\n",
    "    roc_auc[i] = auc(fpr[i], tpr[i])\n",
    "\n",
    "\n",
    "# Compute micro-average ROC curve and ROC area\n",
    "fpr[\"micro\"], tpr[\"micro\"], _ = roc_curve(y_binarize_test.ravel(), y_binarize_pred.ravel())\n",
    "roc_auc[\"micro\"] = auc(fpr[\"micro\"], tpr[\"micro\"])\n",
    "\n",
    "\n",
    "plt.figure()\n",
    "lw = 2\n",
    "plt.plot(fpr[2], tpr[2], color='darkorange',\n",
    "         lw=lw, label='ROC curve (area = %0.2f)' % roc_auc[2])\n",
    "plt.plot([0, 1], [0, 1], color='navy', lw=lw, linestyle='--')\n",
    "plt.xlim([0.0, 1.0])\n",
    "plt.ylim([0.0, 1.05])\n",
    "plt.xlabel('False Positive Rate')\n",
    "plt.ylabel('True Positive Rate')\n",
    "plt.title('(CNN-DBEMA) -- ROC Curve')\n",
    "plt.legend(loc=\"lower right\")\n",
    "plt.show()\n",
    "\n",
    "#*************************************************\n",
    "\n",
    "\n",
    "print(\"---------------\")\n",
    "\n",
    "Class_1 = roc_auc_score(y_binarize_test[:,0], y_binarize_pred[:,0])\n",
    "Class_2 = roc_auc_score(y_binarize_test[:,1], y_binarize_pred[:,1])\n",
    "Class_3 = roc_auc_score(y_binarize_test[:,2], y_binarize_pred[:,2])\n",
    "Class_4 = roc_auc_score(y_binarize_test[:,3], y_binarize_pred[:,3])\n",
    "print(Class_1)\n",
    "print(Class_2)\n",
    "print(Class_3)\n",
    "print(Class_4)\n",
    "\n",
    "print(\"---------------\")\n",
    "\n",
    "#****************************************************\n",
    "\n",
    "\n",
    "# First aggregate all false positive rates\n",
    "all_fpr = np.unique(np.concatenate([fpr[i] for i in range(n_classes)]))\n",
    "\n",
    "# Then interpolate all ROC curves at this points\n",
    "mean_tpr = np.zeros_like(all_fpr)\n",
    "for i in range(n_classes):\n",
    "    mean_tpr += interp(all_fpr, fpr[i], tpr[i])\n",
    "\n",
    "# Finally average it and compute AUC\n",
    "mean_tpr /= n_classes\n",
    "\n",
    "fpr[\"macro\"] = all_fpr\n",
    "tpr[\"macro\"] = mean_tpr\n",
    "roc_auc[\"macro\"] = auc(fpr[\"macro\"], tpr[\"macro\"])\n",
    "\n",
    "# Plot all ROC curves\n",
    "plt.figure()\n",
    "plt.plot(fpr[\"micro\"], tpr[\"micro\"],\n",
    "         label='micro-average ROC curve (area = {0:0.2f})'\n",
    "               ''.format(roc_auc[\"micro\"]),\n",
    "         color='deeppink', linestyle=':', linewidth=4)\n",
    "\n",
    "plt.plot(fpr[\"macro\"], tpr[\"macro\"],\n",
    "         label='macro-average ROC curve (area = {0:0.2f})'\n",
    "               ''.format(roc_auc[\"macro\"]),\n",
    "         color='navy', linestyle=':', linewidth=4)\n",
    "\n",
    "classes = cycle(['Class-1', 'Class-2', 'Class-3', 'Class-4'])\n",
    "\n",
    "colors = cycle(['aqua', 'darkorange', 'cornflowerblue', 'darkorchid'])\n",
    "for i, color ,clas in zip(range(n_classes), colors, classes):\n",
    "    plt.plot(fpr[i], tpr[i], color=color, lw=lw,\n",
    "             label='CNN-DBEMA of {0} (area = {1:0.2f})'\n",
    "             ''.format(clas , roc_auc[i]))\n",
    "\n",
    "plt.plot([0, 1], [0, 1], 'k--', lw=lw)\n",
    "plt.xlim([0.0, 1.0])\n",
    "plt.ylim([0.0, 1.05])\n",
    "plt.xlabel('False Positive Rate')\n",
    "plt.ylabel('True Positive Rate')\n",
    "plt.title('(ROC) to Multi-Class for CNN-DBEMA ')\n",
    "plt.legend(loc=\"lower right\")\n",
    "plt.show()\n",
    "\n",
    "#*************************************************\n",
    "\n",
    "\n",
    "print(\"---------------\")\n",
    "\n",
    "\n",
    "macro_roc_auc_ovo = roc_auc_score(y_binarize_test, y_binarize_pred, multi_class=\"ovo\",\n",
    "                                  average=\"macro\")\n",
    "weighted_roc_auc_ovo = roc_auc_score(y_binarize_test, y_binarize_pred, multi_class=\"ovo\",\n",
    "                                     average=\"weighted\")\n",
    "macro_roc_auc_ovr = roc_auc_score(y_binarize_test, y_binarize_pred, multi_class=\"ovr\",\n",
    "                                  average=\"macro\")\n",
    "weighted_roc_auc_ovr = roc_auc_score(y_binarize_test, y_binarize_pred, multi_class=\"ovr\",\n",
    "                                     average=\"weighted\")\n",
    "print(\"CNN-DBEMA for One-vs-One ROC AUC scores:\\n{:.6f} (macro),\\n{:.6f} \"\n",
    "      \"(weighted by prevalence)\"\n",
    "      .format(macro_roc_auc_ovo, weighted_roc_auc_ovo))\n",
    "print(\"CNN-DBEMA for One-vs-Rest ROC AUC scores:\\n{:.6f} (macro),\\n{:.6f} \"\n",
    "      \"(weighted by prevalence)\"\n",
    "      .format(macro_roc_auc_ovr, weighted_roc_auc_ovr))"
   ]
  },
  {
   "cell_type": "markdown",
   "metadata": {
    "collapsed": true
   },
   "source": [
    "# confusion_matrix_returns function"
   ]
  },
  {
   "cell_type": "code",
   "execution_count": 180,
   "metadata": {
    "collapsed": true
   },
   "outputs": [],
   "source": [
    "def confusion_matrix_returns(y_test_f,predicted_class1_f):\n",
    "    cm_tam_yeni = confusion_matrix(list(y_test_f), list(predicted_class1_f)).ravel()\n",
    "    cm_tam_yeni_len =len(cm_tam_yeni)\n",
    "    root= int(pow(cm_tam_yeni_len, 0.5))\n",
    "    confusion_matrix_m = cm_tam_yeni.reshape(root,root)\n",
    "    FP = confusion_matrix_m.sum(axis=0) - np.diag(confusion_matrix_m)  \n",
    "    FN = confusion_matrix_m.sum(axis=1) - np.diag(confusion_matrix_m)\n",
    "    TP = np.diag(confusion_matrix_m)\n",
    "    TN = confusion_matrix_m.sum() - (FP + FN + TP)\n",
    "\n",
    "    FP = FP.astype(float)\n",
    "    FN = FN.astype(float)\n",
    "    TP = TP.astype(float)\n",
    "    TN = TN.astype(float)\n",
    "\n",
    "\n",
    "    # Sensitivity, hit rate, recall, or true positive rate\n",
    "    TPR = TP/(TP+FN)\n",
    "    # Specificity or true negative rate\n",
    "    TNR = TN/(TN+FP) \n",
    "    # Precision or positive predictive value\n",
    "    PPV = TP/(TP+FP)\n",
    "    # Negative predictive value\n",
    "    NPV = TN/(TN+FN)\n",
    "    # Fall out or false positive rate\n",
    "    FPR = FP/(FP+TN)\n",
    "    # False negative rate\n",
    "    FNR = FN/(TP+FN)\n",
    "    # False discovery rate\n",
    "    FDR = FP/(TP+FP)\n",
    "\n",
    "\n",
    "    f1_score =(2*(PPV * TPR))/(PPV + TPR)\n",
    "\n",
    "\n",
    "    # Overall accuracy\n",
    "    ACC = (TP+TN)/(TP+FP+FN+TN)\n",
    "\n",
    "    accuracy = ACC.mean()\n",
    "    Precision = PPV.mean()\n",
    "    Sensitivity = TPR.mean()\n",
    "    Specificity = TNR.mean()\n",
    "    f1_score =(2*(Precision * Sensitivity))/(Precision + Sensitivity)\n",
    "    \n",
    "    print(\"Accuracy: \" , accuracy)\n",
    "    print(\"Precision: \" , PPV.mean())\n",
    "    print(\"Sensitivity: \" , TPR.mean())\n",
    "    print(\"Specificity: \" , TNR.mean())\n",
    "    print(\"F1_Score: \" , f1_score.mean())\n",
    "    return accuracy,Precision, Sensitivity, Specificity, f1_score"
   ]
  },
  {
   "cell_type": "code",
   "execution_count": 134,
   "metadata": {
    "collapsed": true
   },
   "outputs": [],
   "source": [
    "predicted_values1_CNN_DBEMA = model.predict_classes(x= testImages)\n",
    "\n",
    "### Converting predicted values into classes using new threshold\n",
    "threshold=0.4\n",
    "\n",
    "predicted_class1=np.zeros(predicted_values1_CNN_DBEMA.shape)\n",
    "predicted_class1[predicted_values1_CNN_DBEMA < 1+threshold ]=0\n",
    "predicted_class1[(1+threshold < predicted_values1_CNN_DBEMA ) &  ( predicted_values1_CNN_DBEMA <2+threshold) ]=1\n",
    "predicted_class1[(2+threshold < predicted_values1_CNN_DBEMA ) &  ( predicted_values1_CNN_DBEMA <3+threshold)  ] = 2\n",
    "predicted_class1[predicted_values1_CNN_DBEMA > 3+threshold ]=3\n",
    "#predicted_class1 \n",
    "predicted_class1  = predicted_values1_CNN_DBEMA"
   ]
  },
  {
   "cell_type": "code",
   "execution_count": 135,
   "metadata": {
    "scrolled": false
   },
   "outputs": [
    {
     "name": "stdout",
     "output_type": "stream",
     "text": [
      "Accuracy:  0.7768691588785046\n",
      "Precision:  0.500993946676777\n",
      "Sensitivity:  0.477609925567715\n",
      "Specificity:  0.8405431656989033\n",
      "F1_Score:  0.48902255216580665\n"
     ]
    }
   ],
   "source": [
    "accuracy,Precision, Sensitivity, Specificity, f1_score = confusion_matrix_returns(y_test,predicted_class1)"
   ]
  },
  {
   "cell_type": "code",
   "execution_count": 55,
   "metadata": {
    "scrolled": false
   },
   "outputs": [
    {
     "name": "stdout",
     "output_type": "stream",
     "text": [
      "              precision    recall  f1-score   support\n",
      "\n",
      "           0     0.5239    0.7737    0.6248       411\n",
      "           1     0.2988    0.2168    0.2513       226\n",
      "           2     0.5102    0.3686    0.4280       407\n",
      "           3     0.2648    0.2417    0.2527       240\n",
      "\n",
      "    accuracy                         0.4478      1284\n",
      "   macro avg     0.3994    0.4002    0.3892      1284\n",
      "weighted avg     0.4315    0.4478    0.4271      1284\n",
      "\n"
     ]
    }
   ],
   "source": [
    "print(classification_report(y_test, predicted_class1, digits=4))"
   ]
  },
  {
   "cell_type": "code",
   "execution_count": 183,
   "metadata": {},
   "outputs": [
    {
     "data": {
      "text/plain": [
       "0.5661993769470405"
      ]
     },
     "execution_count": 183,
     "metadata": {},
     "output_type": "execute_result"
    }
   ],
   "source": [
    "accuracy_score(y_test,predicted_class1)"
   ]
  },
  {
   "cell_type": "code",
   "execution_count": 61,
   "metadata": {},
   "outputs": [
    {
     "name": "stdout",
     "output_type": "stream",
     "text": [
      "              precision    recall  f1-score   support\n",
      "\n",
      "           0       0.57      0.80      0.67       387\n",
      "           1       0.62      0.32      0.42       251\n",
      "           2       0.60      0.74      0.66       420\n",
      "           3       0.36      0.15      0.21       226\n",
      "\n",
      "    accuracy                           0.57      1284\n",
      "   macro avg       0.54      0.50      0.49      1284\n",
      "weighted avg       0.55      0.57      0.54      1284\n",
      "\n"
     ]
    }
   ],
   "source": [
    "print(classification_report(list(y_test), list(predicted_class1)))"
   ]
  },
  {
   "cell_type": "code",
   "execution_count": 184,
   "metadata": {},
   "outputs": [
    {
     "name": "stdout",
     "output_type": "stream",
     "text": [
      "              precision    recall  f1-score   support\n",
      "\n",
      "           0       0.67      0.61      0.64       387\n",
      "           1       0.53      0.56      0.55       251\n",
      "           2       0.57      0.76      0.65       420\n",
      "           3       0.30      0.14      0.19       226\n",
      "\n",
      "    accuracy                           0.57      1284\n",
      "   macro avg       0.52      0.52      0.51      1284\n",
      "weighted avg       0.54      0.57      0.54      1284\n",
      "\n"
     ]
    }
   ],
   "source": [
    "print(classification_report(list(y_test), list(predicted_class1)))"
   ]
  },
  {
   "cell_type": "code",
   "execution_count": 185,
   "metadata": {},
   "outputs": [
    {
     "name": "stdout",
     "output_type": "stream",
     "text": [
      "for class 0: recall 0.6098,  specificity 0.8707          precision 0.6705, f1 0.6387\n",
      "for class 1: recall 0.5618,  specificity 0.879          precision 0.5301, f1 0.5455\n",
      "for class 2: recall 0.7595,  specificity 0.7164          precision 0.5656, f1 0.6484\n",
      "for class 3: recall 0.1372,  specificity 0.9329          precision 0.3039, f1 0.189\n"
     ]
    }
   ],
   "source": [
    "n_classes = 4\n",
    "\n",
    "cm_tam_yeni = confusion_matrix(list(y_test), list(predicted_class1)).ravel()\n",
    "cm_tam_yeni_len =len(cm_tam_yeni)\n",
    "root= int(pow(cm_tam_yeni_len, 0.5))\n",
    "cm = cm_tam_yeni.reshape(root,root)\n",
    "\n",
    "\n",
    "# np.set_printoptions(suppress=True, precision=4)\n",
    "\n",
    "\n",
    "for c in range(n_classes):\n",
    "    tp = cm[c,c]\n",
    "    fp = sum(cm[:,c]) - cm[c,c]\n",
    "    fn = sum(cm[c,:]) - cm[c,c]\n",
    "    tn = sum(np.delete(sum(cm)-cm[c,:],c))\n",
    "\n",
    "    recall = tp/(tp+fn)\n",
    "    precision = tp/(tp+fp)\n",
    "    specificity = tn/(tn+fp)\n",
    "    f1_score = 2*((precision*recall)/(precision+recall))\n",
    "    \n",
    "\n",
    "    #print(f\"for class {c}: acc {accuracy}, recall {recall},\\\n",
    "    #      precision {precision}, f1 {f1_score}\")\n",
    "    print(\"for class {}: recall {},  specificity {}\\\n",
    "          precision {}, f1 {}\".format(c,round(recall,4), round(specificity,4), round(precision,4),round(f1_score,4)))\n",
    "\n",
    "##    print(\"tp: \", tp)\n",
    "##    print(\"fp: \", fp)\n",
    "##    print(\"fn: \", fn)\n",
    "##    print(\"tn: \", tn)"
   ]
  },
  {
   "cell_type": "code",
   "execution_count": 194,
   "metadata": {},
   "outputs": [
    {
     "data": {
      "text/plain": [
       "array([[236,  78,  56,  17],\n",
       "       [ 53, 141,  43,  14],\n",
       "       [ 32,  29, 319,  40],\n",
       "       [ 31,  18, 146,  31]], dtype=int64)"
      ]
     },
     "execution_count": 194,
     "metadata": {},
     "output_type": "execute_result"
    }
   ],
   "source": [
    "confusion_matrix(list(y_test),list(predicted_class1))"
   ]
  },
  {
   "cell_type": "code",
   "execution_count": 195,
   "metadata": {},
   "outputs": [
    {
     "name": "stdout",
     "output_type": "stream",
     "text": [
      "              precision    recall  f1-score   support\n",
      "\n",
      "           0       0.67      0.61      0.64       387\n",
      "           1       0.53      0.56      0.55       251\n",
      "           2       0.57      0.76      0.65       420\n",
      "           3       0.30      0.14      0.19       226\n",
      "\n",
      "    accuracy                           0.57      1284\n",
      "   macro avg       0.52      0.52      0.51      1284\n",
      "weighted avg       0.54      0.57      0.54      1284\n",
      "\n"
     ]
    }
   ],
   "source": [
    "print(classification_report(list(y_test), list(predicted_class1)))"
   ]
  },
  {
   "cell_type": "code",
   "execution_count": null,
   "metadata": {
    "collapsed": true
   },
   "outputs": [],
   "source": []
  }
 ],
 "metadata": {
  "kernelspec": {
   "display_name": "Python 3 (ipykernel)",
   "language": "python",
   "name": "python3"
  },
  "language_info": {
   "codemirror_mode": {
    "name": "ipython",
    "version": 3
   },
   "file_extension": ".py",
   "mimetype": "text/x-python",
   "name": "python",
   "nbconvert_exporter": "python",
   "pygments_lexer": "ipython3",
   "version": "3.11.5"
  }
 },
 "nbformat": 4,
 "nbformat_minor": 2
}
